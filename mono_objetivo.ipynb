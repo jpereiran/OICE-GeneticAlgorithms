{
  "nbformat": 4,
  "nbformat_minor": 0,
  "metadata": {
    "kernelspec": {
      "name": "python3",
      "display_name": "Python 3"
    },
    "language_info": {
      "codemirror_mode": {
        "name": "ipython",
        "version": 3
      },
      "file_extension": ".py",
      "mimetype": "text/x-python",
      "name": "python",
      "nbconvert_exporter": "python",
      "pygments_lexer": "ipython3",
      "version": "3.7.3"
    },
    "toc": {
      "base_numbering": 1,
      "nav_menu": {},
      "number_sections": true,
      "sideBar": true,
      "skip_h1_title": false,
      "title_cell": "Table of Contents",
      "title_sidebar": "Contents",
      "toc_cell": false,
      "toc_position": {},
      "toc_section_display": true,
      "toc_window_display": false
    },
    "colab": {
      "name": "mono-objetivo.ipynb",
      "provenance": [],
      "collapsed_sections": []
    },
    "accelerator": "GPU"
  },
  "cells": [
    {
      "cell_type": "code",
      "metadata": {
        "id": "86MJFawtAR3z",
        "colab_type": "code",
        "colab": {}
      },
      "source": [
        "import sys\n",
        "import time\n",
        "import random\n",
        "import numpy as np\n",
        "from copy import deepcopy\n",
        "import pandas as pd\n",
        "import matplotlib.pyplot as plt\n",
        "import heapq\n",
        "from itertools import combinations "
      ],
      "execution_count": 0,
      "outputs": []
    },
    {
      "cell_type": "markdown",
      "metadata": {
        "id": "KjHZ7xDvAR35",
        "colab_type": "text"
      },
      "source": [
        "## Clase individuo"
      ]
    },
    {
      "cell_type": "code",
      "metadata": {
        "id": "wu-JJX4gAR36",
        "colab_type": "code",
        "colab": {}
      },
      "source": [
        "class Individual(object):   \n",
        "   \n",
        "    def __init__(self, chromosome, size):\n",
        "            self.chromosome = chromosome[:]\n",
        "            self.allele_pool = allele_pool\n",
        "            self.fitness = -1  # -1 indica que el individuo no ha sido evaluado\n",
        "            self.fitness_sep = [-1,-1,-1,-1]\n",
        "            \n",
        "    def crossover_onepoint(self, other):\n",
        "        \"Retorna dos nuevos individuos del cruzamiento de un punto entre individuos self y other \"\n",
        "        c = random.randrange(len(self.chromosome))\n",
        "        #print(set(self.chromosome[:c]) & set(other.chromosome[c:]))\n",
        "        if len((set(self.chromosome[:c]) & set(other.chromosome[c:])))==0:\n",
        "          ind1 = Individual(self.chromosome[:c] + other.chromosome[c:], allele_pool)\n",
        "          ind2 = Individual(other.chromosome[:c] + self.chromosome[c:], allele_pool)\n",
        "          return [ind1, ind2]\n",
        "        else:\n",
        "          return [self, other]   \n",
        "    \n",
        "    \n",
        "    def crossover_uniform(self, other):\n",
        "        chromosome1 = []\n",
        "        chromosome2 = []\n",
        "        \"Retorna dos nuevos individuos del cruzamiento uniforme entre self y other \"\n",
        "        for i in range(len(self.chromosome)):\n",
        "            if random.uniform(0, 1) < 0.5:\n",
        "                chromosome1.append(self.chromosome[i])\n",
        "                chromosome2.append(other.chromosome[i])\n",
        "            else:\n",
        "                chromosome1.append(other.chromosome[i])\n",
        "                chromosome2.append(self.chromosome[i])\n",
        "        ind1 = Individual(chromosome1, allele_pool)\n",
        "        ind2 = Individual(chromosome2, allele_pool)\n",
        "        return [ind1, ind2] \n",
        "\n",
        "    def mutate_position(self): \n",
        "        \"\"\"       Bit flip\n",
        "        Cambia aleatoriamente un alelo de un gen.\"\"\"\n",
        "        mutated_chromosome = deepcopy(self.chromosome)\n",
        "        mutGene = random.randrange(0,len(mutated_chromosome)) \n",
        "        newAllele = allele_pool[random.randrange(0,len(allele_pool))]\n",
        "        mutated_chromosome[mutGene] = newAllele\n",
        "        return Individual(mutated_chromosome, allele_pool)\n",
        "        \n",
        "    def mutate_swap(self):\n",
        "        \"Escoge dos genes e intercambia sus alelos\"\n",
        "        mutated_chromosome = deepcopy(self.chromosome)\n",
        "        mutGen1 = random.randrange(0,len(mutated_chromosome))\n",
        "        mutGen2 = random.randrange(0,len(mutated_chromosome))\n",
        "        \n",
        "        temp = allele_pool[mutGen1]\n",
        "        if temp not in mutated_chromosome:\n",
        "          #mutated_chromosome[mutGen1] = mutated_chromosome[mutGen2]\n",
        "          mutated_chromosome[mutGen2] = temp\n",
        "        \n",
        "        return Individual(mutated_chromosome, allele_pool)\n",
        "                   "
      ],
      "execution_count": 0,
      "outputs": []
    },
    {
      "cell_type": "markdown",
      "metadata": {
        "id": "uWSVtniAAR3-",
        "colab_type": "text"
      },
      "source": [
        "## Inicia una poblacion tipo Binario"
      ]
    },
    {
      "cell_type": "code",
      "metadata": {
        "id": "u-wn0cyiAR3_",
        "colab_type": "code",
        "colab": {}
      },
      "source": [
        "def init_population(pop_number, chromosome_size, allele_pool):    \n",
        "    num_alleles = len(allele_pool)\n",
        "    population = []\n",
        "    for i in range(pop_number):\n",
        "        new_chromosome = [allele_pool[random.randrange(0, num_alleles)] for j in range(chromosome_size)]\n",
        "        population.append(Individual(new_chromosome, allele_pool) )\n",
        "    return population"
      ],
      "execution_count": 0,
      "outputs": []
    },
    {
      "cell_type": "markdown",
      "metadata": {
        "id": "SYPAPyGHAR4B",
        "colab_type": "text"
      },
      "source": [
        " Convierte un Nro binario a un número natural:  \n",
        " El Nro binario es una lista de 0's y 1's "
      ]
    },
    {
      "cell_type": "code",
      "metadata": {
        "id": "PG6D8oFnAR4C",
        "colab_type": "code",
        "colab": {}
      },
      "source": [
        "def binario_a_decimal(x):\n",
        "    return int(str(''.join(map(str,x))))#, 2"
      ],
      "execution_count": 0,
      "outputs": []
    },
    {
      "cell_type": "markdown",
      "metadata": {
        "id": "g3CSuIdtAR4F",
        "colab_type": "text"
      },
      "source": [
        "Funcion de aptitud para evaluar el fitness de un Cromosoma (x^2)"
      ]
    },
    {
      "cell_type": "code",
      "metadata": {
        "id": "3pQ2su1-AR4G",
        "colab_type": "code",
        "colab": {}
      },
      "source": [
        "def fun_fitness_cuad(cromosoma):\n",
        "    \"\"\"Función que eleva al cuadrado el número recibido en binario\"\"\"\n",
        "    n = 0\n",
        "    for c in cromosoma:\n",
        "      n +=  pob_pool[c]\n",
        "\n",
        "    comb = combinations(cromosoma, 2) \n",
        "    dist_x = 0\n",
        "    dist_y = 0\n",
        "    for com in comb:\n",
        "      dist_x += abs(x_pool[com[0]] - x_pool[com[1]])\n",
        "      dist_y += abs(y_pool[com[0]] - y_pool[com[1]])\n",
        "    \n",
        "    total = dist_x + dist_y + n\n",
        "\n",
        "    return total"
      ],
      "execution_count": 0,
      "outputs": []
    },
    {
      "cell_type": "code",
      "metadata": {
        "id": "NDmlZ1RI0eIh",
        "colab_type": "code",
        "colab": {}
      },
      "source": [
        "def fun_fitness_cuad_sep(cromosoma):\n",
        "    \"\"\"Función que eleva al cuadrado el número recibido en binario\"\"\"\n",
        "    n = 0\n",
        "    for c in cromosoma:\n",
        "      n +=  pob_pool[c]\n",
        "\n",
        "    comb = combinations(cromosoma, 2) \n",
        "    dist_x = 0\n",
        "    dist_y = 0\n",
        "    for com in comb:\n",
        "      dist_x += abs(x_pool[com[0]] - x_pool[com[1]])\n",
        "      dist_y += abs(y_pool[com[0]] - y_pool[com[1]])\n",
        "    \n",
        "    total = dist_x + dist_y + n\n",
        "\n",
        "    return [total,dist_x, dist_y,n]"
      ],
      "execution_count": 0,
      "outputs": []
    },
    {
      "cell_type": "markdown",
      "metadata": {
        "id": "mM-Ufa3hAR4J",
        "colab_type": "text"
      },
      "source": [
        "Funcion para evaluar toda una población de individuos con la funcion de fitnes especificada"
      ]
    },
    {
      "cell_type": "code",
      "metadata": {
        "id": "I06jVtM1AR4K",
        "colab_type": "code",
        "colab": {}
      },
      "source": [
        "def evaluate_population(population,fitness_fn): \n",
        "    \"\"\"Retorna el fitness de un cromosoma como el cuadrado del numero recibido en binario\"\"\"\n",
        "   \n",
        "    for i in range(len(population)):\n",
        "        if population[i].fitness == -1:    # evalua solo si el individuo no esta evaluado\n",
        "            population[i].fitness = fitness_fn(population[i].chromosome)\n",
        "            population[i].fitness_sep = fun_fitness_cuad_sep(population[i].chromosome)\n",
        "    return population"
      ],
      "execution_count": 0,
      "outputs": []
    },
    {
      "cell_type": "code",
      "metadata": {
        "id": "dWavI0SPAR4N",
        "colab_type": "code",
        "colab": {}
      },
      "source": [
        "def display(population):\n",
        "    listaAG=[]\n",
        "    for i in range(len(population)):\n",
        "      listaAG.append([population[i].chromosome,population[i].fitness,population[i].fitness_sep[1],population[i].fitness_sep[2],population[i].fitness_sep[3]])\n",
        "\n",
        "    data=pd.DataFrame(listaAG)\n",
        "    data.columns = ['Poblacion','fitness acumulado', 'Distancias X', 'Distancias Y', 'Población Acumulada']\n",
        "    return data"
      ],
      "execution_count": 0,
      "outputs": []
    },
    {
      "cell_type": "markdown",
      "metadata": {
        "id": "0jHBIE2yAR4P",
        "colab_type": "text"
      },
      "source": [
        "## Selecciona los padres mediante operadores: Ruleta/ Torneo"
      ]
    },
    {
      "cell_type": "markdown",
      "metadata": {
        "id": "2_uAcT_tAR4Q",
        "colab_type": "text"
      },
      "source": [
        "###  Ruleta"
      ]
    },
    {
      "cell_type": "code",
      "metadata": {
        "id": "fWEAuk7bAR4Q",
        "colab_type": "code",
        "colab": {}
      },
      "source": [
        "def select_parents_roulette(population):\n",
        "    popsize = len(population)\n",
        "    \n",
        "    # Escoje el primer padre\n",
        "    sumfitness = sum([indiv.fitness for indiv in population])  # suma total del fitness de la poblacion\n",
        "    pickfitness = random.uniform(0, sumfitness)   # escoge un numero aleatorio entre 0 y sumfitness\n",
        "    cumfitness = 0     # fitness acumulado\n",
        "    for i in range(popsize):\n",
        "        cumfitness += population[i].fitness\n",
        "        if cumfitness > pickfitness: \n",
        "            iParent1 = i\n",
        "            break\n",
        "     \n",
        "    # Escoje el segundo padre, desconsiderando el primer padre\n",
        "    sumfitness = sumfitness - population[iParent1].fitness # retira el fitness del padre ya escogido\n",
        "    pickfitness = random.uniform(0, sumfitness)   # escoge un numero aleatorio entre 0 y sumfitness\n",
        "    cumfitness = 0     # fitness acumulado\n",
        "    for i in range(popsize):\n",
        "        if i == iParent1: continue   # si es el primer padre \n",
        "        cumfitness += population[i].fitness\n",
        "        if cumfitness > pickfitness: \n",
        "            iParent2 = i\n",
        "            break        \n",
        "    return (population[iParent1], population[iParent2])"
      ],
      "execution_count": 0,
      "outputs": []
    },
    {
      "cell_type": "markdown",
      "metadata": {
        "id": "6nwhZjEtAR4T",
        "colab_type": "text"
      },
      "source": [
        "### Torneo"
      ]
    },
    {
      "cell_type": "code",
      "metadata": {
        "id": "DyNH7kHjAR4U",
        "colab_type": "code",
        "colab": {}
      },
      "source": [
        "def select_parent_torneo(population,size_torneo):\n",
        "    \n",
        "    # Escoje el primer padre\n",
        "    list_indiv=[]\n",
        "    x1 = np.random.permutation(len(population) )\n",
        "    y1= x1[0:size_torneo]\n",
        "    for i in range(size_torneo):\n",
        "        list_indiv.append(population[y1[i]].fitness)\n",
        "    \n",
        "    iParent1=np.argmax(list_indiv)\n",
        "    \n",
        "    # Escoje el segundo padre, desconsiderando el primer padre   \n",
        "    x2 = np.delete(x1, iParent1)\n",
        "    x2 = np.random.permutation(x2)\n",
        "    list_indiv=[]\n",
        "    y2= x2[0:size_torneo]\n",
        "    for i in range(size_torneo):\n",
        "        list_indiv.append(population[y2[i]].fitness)\n",
        "    iParent2=np.argmax(list_indiv)\n",
        "    \n",
        "    return (population[x1[iParent1]],population[x2[iParent2]])"
      ],
      "execution_count": 0,
      "outputs": []
    },
    {
      "cell_type": "markdown",
      "metadata": {
        "id": "KtHRolmmAR4W",
        "colab_type": "text"
      },
      "source": [
        "## Iniciando una poblacion"
      ]
    },
    {
      "cell_type": "markdown",
      "metadata": {
        "id": "YhxnZIu3tuJf",
        "colab_type": "text"
      },
      "source": [
        "### Variables"
      ]
    },
    {
      "cell_type": "code",
      "metadata": {
        "id": "WBWzGVeTtryy",
        "colab_type": "code",
        "colab": {}
      },
      "source": [
        "x_pool = [-12.04861,-12.05956,-12.06524,-12.05998,-12.05541,-12.05417,-12.05349,-12.05268,-12.05278,-12.05301,-12.04937,-12.05465,-12.05486,-12.05059,-12.04253,-12.04817,-12.04668,-12.05606,-12.07258,-12.07414,-12.06771,-12.06921,-12.07396,-12.075,-12.09086,-12.09375,-12.09602,-12.02669,-12.0282,-12.03267,-12.03828,-12.03982,-12.04117,-12.0417,-12.04155,-12.03882,-12.03959,-12.03548,-12.03766,-12.03984,-12.04233,-12.04328,-12.04486,-12.04566,-12.03895,-12.12916,-12.13156,-12.13222,-12.1265,-12.1261,-12.12603,-12.12587,-12.12248,-12.12326,-12.12028,-12.1201,-12.12532,-12.12116,-12.12159,-12.11685]\n",
        "y_pool = [-77.06496,-77.07583,-77.07334,-77.063,-77.07497,-77.07472,-77.07362,-77.07409,-77.07104,-77.07735,-77.07948,-77.06952,-77.07655,-77.07666,-77.09595,-77.05867,-77.0726,-77.06726,-77.06884,-77.0629,-77.06214,-77.0593,-77.051,-77.04631,-77.05947,-77.06947,-77.07398,-76.88958,-76.8912,-76.91418,-76.9157,-76.91897,-76.9186,-76.9221,-76.9213,-76.9238,-76.92422,-76.92502,-76.92863,-76.92827,-76.92739,-76.92851,-76.92715,-76.91841,-76.92025,-77.02984,-77.02371,-77.02358,-77.02697,-77.02889,-77.03129,-77.03583,-77.03332,-77.03639,-77.03866,-77.0343,-77.03135,-77.02889,-77.03092,-77.02991]\n",
        "pob_pool = [16500,18000,17000,15000,17100,17350,17300,17400,17350,17400,16900,17200,17300,17500,18500,17100,16400,15950,16800,16950,14500,16400,17300,17000,14900,13900,11500,2900,2500,2000,3800,8500,7500,6000,6000,8600,8500,9200,9900,9900,9200,8700,7900,4000,8600,16000,15800,15600,18400,18800,18300,14500,17900,16950,17600,19000,18600,18000,18500,20000]"
      ],
      "execution_count": 0,
      "outputs": []
    },
    {
      "cell_type": "markdown",
      "metadata": {
        "id": "csG2F8COt2Nk",
        "colab_type": "text"
      },
      "source": [
        "### Codigo"
      ]
    },
    {
      "cell_type": "code",
      "metadata": {
        "id": "6DMgpHabA1-M",
        "colab_type": "code",
        "outputId": "9ea00f72-42b3-4b5d-a75a-fc30542c506b",
        "colab": {
          "base_uri": "https://localhost:8080/",
          "height": 402
        }
      },
      "source": [
        "num_individuals = 100\n",
        "ind_size        = 10\n",
        "\n",
        "\n",
        "allele_pool = [0,1,2,3,4,5,6,7,8,9,10,11,12,13,14,15,16,17,18,19,20,21,22,23,24,25,26,27,28,29,30,31,32,33,34,35,36,37,38,39,40,41,42,43,44,45,46,47,48,49,50,51,52,53,54,55,56,57,58,59]\n",
        "\n",
        "population = init_population(num_individuals,ind_size, allele_pool)\n",
        "\n",
        "display(population) #Imprime la primera poblacion \n"
      ],
      "execution_count": 325,
      "outputs": [
        {
          "output_type": "execute_result",
          "data": {
            "text/html": [
              "<div>\n",
              "<style scoped>\n",
              "    .dataframe tbody tr th:only-of-type {\n",
              "        vertical-align: middle;\n",
              "    }\n",
              "\n",
              "    .dataframe tbody tr th {\n",
              "        vertical-align: top;\n",
              "    }\n",
              "\n",
              "    .dataframe thead th {\n",
              "        text-align: right;\n",
              "    }\n",
              "</style>\n",
              "<table border=\"1\" class=\"dataframe\">\n",
              "  <thead>\n",
              "    <tr style=\"text-align: right;\">\n",
              "      <th></th>\n",
              "      <th>Poblacion</th>\n",
              "      <th>fitness acumulado</th>\n",
              "      <th>Distancias X</th>\n",
              "      <th>Distancias Y</th>\n",
              "      <th>Población Acumulada</th>\n",
              "    </tr>\n",
              "  </thead>\n",
              "  <tbody>\n",
              "    <tr>\n",
              "      <th>0</th>\n",
              "      <td>[56, 34, 53, 39, 53, 33, 13, 53, 32, 25]</td>\n",
              "      <td>-1</td>\n",
              "      <td>-1</td>\n",
              "      <td>-1</td>\n",
              "      <td>-1</td>\n",
              "    </tr>\n",
              "    <tr>\n",
              "      <th>1</th>\n",
              "      <td>[8, 10, 12, 5, 32, 32, 34, 45, 20, 22]</td>\n",
              "      <td>-1</td>\n",
              "      <td>-1</td>\n",
              "      <td>-1</td>\n",
              "      <td>-1</td>\n",
              "    </tr>\n",
              "    <tr>\n",
              "      <th>2</th>\n",
              "      <td>[29, 38, 34, 38, 39, 49, 43, 28, 43, 8]</td>\n",
              "      <td>-1</td>\n",
              "      <td>-1</td>\n",
              "      <td>-1</td>\n",
              "      <td>-1</td>\n",
              "    </tr>\n",
              "    <tr>\n",
              "      <th>3</th>\n",
              "      <td>[31, 59, 16, 13, 59, 9, 17, 45, 32, 49]</td>\n",
              "      <td>-1</td>\n",
              "      <td>-1</td>\n",
              "      <td>-1</td>\n",
              "      <td>-1</td>\n",
              "    </tr>\n",
              "    <tr>\n",
              "      <th>4</th>\n",
              "      <td>[52, 53, 8, 53, 29, 25, 18, 18, 51, 51]</td>\n",
              "      <td>-1</td>\n",
              "      <td>-1</td>\n",
              "      <td>-1</td>\n",
              "      <td>-1</td>\n",
              "    </tr>\n",
              "    <tr>\n",
              "      <th>...</th>\n",
              "      <td>...</td>\n",
              "      <td>...</td>\n",
              "      <td>...</td>\n",
              "      <td>...</td>\n",
              "      <td>...</td>\n",
              "    </tr>\n",
              "    <tr>\n",
              "      <th>95</th>\n",
              "      <td>[27, 21, 2, 23, 28, 39, 3, 45, 18, 35]</td>\n",
              "      <td>-1</td>\n",
              "      <td>-1</td>\n",
              "      <td>-1</td>\n",
              "      <td>-1</td>\n",
              "    </tr>\n",
              "    <tr>\n",
              "      <th>96</th>\n",
              "      <td>[38, 29, 54, 49, 51, 42, 15, 8, 4, 7]</td>\n",
              "      <td>-1</td>\n",
              "      <td>-1</td>\n",
              "      <td>-1</td>\n",
              "      <td>-1</td>\n",
              "    </tr>\n",
              "    <tr>\n",
              "      <th>97</th>\n",
              "      <td>[47, 23, 41, 5, 31, 17, 45, 6, 34, 21]</td>\n",
              "      <td>-1</td>\n",
              "      <td>-1</td>\n",
              "      <td>-1</td>\n",
              "      <td>-1</td>\n",
              "    </tr>\n",
              "    <tr>\n",
              "      <th>98</th>\n",
              "      <td>[39, 44, 24, 18, 20, 14, 44, 41, 9, 1]</td>\n",
              "      <td>-1</td>\n",
              "      <td>-1</td>\n",
              "      <td>-1</td>\n",
              "      <td>-1</td>\n",
              "    </tr>\n",
              "    <tr>\n",
              "      <th>99</th>\n",
              "      <td>[54, 29, 5, 26, 44, 10, 57, 9, 49, 43]</td>\n",
              "      <td>-1</td>\n",
              "      <td>-1</td>\n",
              "      <td>-1</td>\n",
              "      <td>-1</td>\n",
              "    </tr>\n",
              "  </tbody>\n",
              "</table>\n",
              "<p>100 rows × 5 columns</p>\n",
              "</div>"
            ],
            "text/plain": [
              "                                   Poblacion  ...  Población Acumulada\n",
              "0   [56, 34, 53, 39, 53, 33, 13, 53, 32, 25]  ...                   -1\n",
              "1     [8, 10, 12, 5, 32, 32, 34, 45, 20, 22]  ...                   -1\n",
              "2    [29, 38, 34, 38, 39, 49, 43, 28, 43, 8]  ...                   -1\n",
              "3    [31, 59, 16, 13, 59, 9, 17, 45, 32, 49]  ...                   -1\n",
              "4    [52, 53, 8, 53, 29, 25, 18, 18, 51, 51]  ...                   -1\n",
              "..                                       ...  ...                  ...\n",
              "95    [27, 21, 2, 23, 28, 39, 3, 45, 18, 35]  ...                   -1\n",
              "96     [38, 29, 54, 49, 51, 42, 15, 8, 4, 7]  ...                   -1\n",
              "97    [47, 23, 41, 5, 31, 17, 45, 6, 34, 21]  ...                   -1\n",
              "98    [39, 44, 24, 18, 20, 14, 44, 41, 9, 1]  ...                   -1\n",
              "99    [54, 29, 5, 26, 44, 10, 57, 9, 49, 43]  ...                   -1\n",
              "\n",
              "[100 rows x 5 columns]"
            ]
          },
          "metadata": {
            "tags": []
          },
          "execution_count": 325
        }
      ]
    },
    {
      "cell_type": "markdown",
      "metadata": {
        "id": "4mh7J8tQAR4b",
        "colab_type": "text"
      },
      "source": [
        "## Evaluacion de la primera poblacion"
      ]
    },
    {
      "cell_type": "code",
      "metadata": {
        "id": "xp8omPJ_AR4b",
        "colab_type": "code",
        "outputId": "6ac02e4a-f4cc-44ba-cacf-bf5793276e2d",
        "colab": {
          "base_uri": "https://localhost:8080/",
          "height": 402
        }
      },
      "source": [
        "fitness_fn=fun_fitness_cuad\n",
        "## Evalua una poblacion\n",
        "population=evaluate_population(population,fitness_fn)  # evalua la poblacion inicial\n",
        "display(population)"
      ],
      "execution_count": 326,
      "outputs": [
        {
          "output_type": "execute_result",
          "data": {
            "text/html": [
              "<div>\n",
              "<style scoped>\n",
              "    .dataframe tbody tr th:only-of-type {\n",
              "        vertical-align: middle;\n",
              "    }\n",
              "\n",
              "    .dataframe tbody tr th {\n",
              "        vertical-align: top;\n",
              "    }\n",
              "\n",
              "    .dataframe thead th {\n",
              "        text-align: right;\n",
              "    }\n",
              "</style>\n",
              "<table border=\"1\" class=\"dataframe\">\n",
              "  <thead>\n",
              "    <tr style=\"text-align: right;\">\n",
              "      <th></th>\n",
              "      <th>Poblacion</th>\n",
              "      <th>fitness acumulado</th>\n",
              "      <th>Distancias X</th>\n",
              "      <th>Distancias Y</th>\n",
              "      <th>Población Acumulada</th>\n",
              "    </tr>\n",
              "  </thead>\n",
              "  <tbody>\n",
              "    <tr>\n",
              "      <th>0</th>\n",
              "      <td>[56, 34, 53, 39, 53, 33, 13, 53, 32, 25]</td>\n",
              "      <td>130255.40092</td>\n",
              "      <td>2.04034</td>\n",
              "      <td>3.36058</td>\n",
              "      <td>130250</td>\n",
              "    </tr>\n",
              "    <tr>\n",
              "      <th>1</th>\n",
              "      <td>[8, 10, 12, 5, 32, 32, 34, 45, 20, 22]</td>\n",
              "      <td>137704.62551</td>\n",
              "      <td>1.17010</td>\n",
              "      <td>3.45541</td>\n",
              "      <td>137700</td>\n",
              "    </tr>\n",
              "    <tr>\n",
              "      <th>2</th>\n",
              "      <td>[29, 38, 34, 38, 39, 49, 43, 28, 43, 8]</td>\n",
              "      <td>84353.59784</td>\n",
              "      <td>1.08758</td>\n",
              "      <td>2.51026</td>\n",
              "      <td>84350</td>\n",
              "    </tr>\n",
              "    <tr>\n",
              "      <th>3</th>\n",
              "      <td>[31, 59, 16, 13, 59, 9, 17, 45, 32, 49]</td>\n",
              "      <td>158054.81464</td>\n",
              "      <td>1.95125</td>\n",
              "      <td>2.86339</td>\n",
              "      <td>158050</td>\n",
              "    </tr>\n",
              "    <tr>\n",
              "      <th>4</th>\n",
              "      <td>[52, 53, 8, 53, 29, 25, 18, 18, 51, 51]</td>\n",
              "      <td>147653.71347</td>\n",
              "      <td>1.78460</td>\n",
              "      <td>1.92887</td>\n",
              "      <td>147650</td>\n",
              "    </tr>\n",
              "    <tr>\n",
              "      <th>...</th>\n",
              "      <td>...</td>\n",
              "      <td>...</td>\n",
              "      <td>...</td>\n",
              "      <td>...</td>\n",
              "      <td>...</td>\n",
              "    </tr>\n",
              "    <tr>\n",
              "      <th>95</th>\n",
              "      <td>[27, 21, 2, 23, 28, 39, 3, 45, 18, 35]</td>\n",
              "      <td>122105.51488</td>\n",
              "      <td>1.51200</td>\n",
              "      <td>4.00288</td>\n",
              "      <td>122100</td>\n",
              "    </tr>\n",
              "    <tr>\n",
              "      <th>96</th>\n",
              "      <td>[38, 29, 54, 49, 51, 42, 15, 8, 4, 7]</td>\n",
              "      <td>139655.13717</td>\n",
              "      <td>1.85726</td>\n",
              "      <td>3.27991</td>\n",
              "      <td>139650</td>\n",
              "    </tr>\n",
              "    <tr>\n",
              "      <th>97</th>\n",
              "      <td>[47, 23, 41, 5, 31, 17, 45, 6, 34, 21]</td>\n",
              "      <td>138804.93789</td>\n",
              "      <td>1.65252</td>\n",
              "      <td>3.28537</td>\n",
              "      <td>138800</td>\n",
              "    </tr>\n",
              "    <tr>\n",
              "      <th>98</th>\n",
              "      <td>[39, 44, 24, 18, 20, 14, 44, 41, 9, 1]</td>\n",
              "      <td>135904.74523</td>\n",
              "      <td>0.90277</td>\n",
              "      <td>3.84246</td>\n",
              "      <td>135900</td>\n",
              "    </tr>\n",
              "    <tr>\n",
              "      <th>99</th>\n",
              "      <td>[54, 29, 5, 26, 44, 10, 57, 9, 49, 43]</td>\n",
              "      <td>132155.44822</td>\n",
              "      <td>1.93055</td>\n",
              "      <td>3.51767</td>\n",
              "      <td>132150</td>\n",
              "    </tr>\n",
              "  </tbody>\n",
              "</table>\n",
              "<p>100 rows × 5 columns</p>\n",
              "</div>"
            ],
            "text/plain": [
              "                                   Poblacion  ...  Población Acumulada\n",
              "0   [56, 34, 53, 39, 53, 33, 13, 53, 32, 25]  ...               130250\n",
              "1     [8, 10, 12, 5, 32, 32, 34, 45, 20, 22]  ...               137700\n",
              "2    [29, 38, 34, 38, 39, 49, 43, 28, 43, 8]  ...                84350\n",
              "3    [31, 59, 16, 13, 59, 9, 17, 45, 32, 49]  ...               158050\n",
              "4    [52, 53, 8, 53, 29, 25, 18, 18, 51, 51]  ...               147650\n",
              "..                                       ...  ...                  ...\n",
              "95    [27, 21, 2, 23, 28, 39, 3, 45, 18, 35]  ...               122100\n",
              "96     [38, 29, 54, 49, 51, 42, 15, 8, 4, 7]  ...               139650\n",
              "97    [47, 23, 41, 5, 31, 17, 45, 6, 34, 21]  ...               138800\n",
              "98    [39, 44, 24, 18, 20, 14, 44, 41, 9, 1]  ...               135900\n",
              "99    [54, 29, 5, 26, 44, 10, 57, 9, 49, 43]  ...               132150\n",
              "\n",
              "[100 rows x 5 columns]"
            ]
          },
          "metadata": {
            "tags": []
          },
          "execution_count": 326
        }
      ]
    },
    {
      "cell_type": "markdown",
      "metadata": {
        "id": "q0j5JeQuAR4e",
        "colab_type": "text"
      },
      "source": [
        " ## Probando los Operadores"
      ]
    },
    {
      "cell_type": "markdown",
      "metadata": {
        "id": "xJPHX7p6AR4e",
        "colab_type": "text"
      },
      "source": [
        "- Llamando a torneo"
      ]
    },
    {
      "cell_type": "code",
      "metadata": {
        "id": "LTAYgj22AR4f",
        "colab_type": "code",
        "outputId": "85f37d46-f9da-4dc7-d009-e53505a9f81e",
        "colab": {
          "base_uri": "https://localhost:8080/",
          "height": 52
        }
      },
      "source": [
        "size_torneo = 3\n",
        "\n",
        "winner1,winner2=select_parent_torneo(population,size_torneo)\n",
        "print(winner1.chromosome,winner1.fitness)\n",
        "print(winner2.chromosome,winner2.fitness)\n"
      ],
      "execution_count": 327,
      "outputs": [
        {
          "output_type": "stream",
          "text": [
            "[11, 47, 38, 8, 34, 2, 54, 5, 50, 25] 150204.68578\n",
            "[17, 23, 45, 18, 16, 3, 10, 24, 28, 10] 148353.62542\n"
          ],
          "name": "stdout"
        }
      ]
    },
    {
      "cell_type": "markdown",
      "metadata": {
        "id": "5xqFN-yQAR4h",
        "colab_type": "text"
      },
      "source": [
        "- Llamando a ruleta"
      ]
    },
    {
      "cell_type": "code",
      "metadata": {
        "id": "e75Eko6aAR4i",
        "colab_type": "code",
        "outputId": "2ee1aab2-3f1f-4046-df69-c606a68bfb18",
        "colab": {
          "base_uri": "https://localhost:8080/",
          "height": 52
        }
      },
      "source": [
        "winner1,winner2=select_parents_roulette(population)\n",
        "print(winner1.chromosome,winner1.fitness)\n",
        "print(winner2.chromosome,winner2.fitness)"
      ],
      "execution_count": 328,
      "outputs": [
        {
          "output_type": "stream",
          "text": [
            "[39, 1, 19, 16, 37, 4, 24, 46, 6, 3] 150554.05601\n",
            "[10, 18, 56, 19, 47, 40, 42, 20, 34, 16] 138854.93717\n"
          ],
          "name": "stdout"
        }
      ]
    },
    {
      "cell_type": "markdown",
      "metadata": {
        "id": "OpJscAeRAR4k",
        "colab_type": "text"
      },
      "source": [
        "## Probando Cruzamiento"
      ]
    },
    {
      "cell_type": "code",
      "metadata": {
        "id": "_pq1okitAR4k",
        "colab_type": "code",
        "colab": {}
      },
      "source": [
        "popsize = len(population)\n",
        "## Selecciona las parejas de padres para cruzamiento \n",
        "mating_pool = []\n",
        "for i in range(int(popsize/2)): mating_pool.append(select_parents_roulette(population)) "
      ],
      "execution_count": 0,
      "outputs": []
    },
    {
      "cell_type": "code",
      "metadata": {
        "id": "IpOzI1nMAR4m",
        "colab_type": "code",
        "colab": {}
      },
      "source": [
        "# Crea la poblacion descendencia cruzando las parejas del mating pool con Recombinación de 1 punto\n",
        "offspring_population = []\n",
        "for i in range(len(mating_pool)): \n",
        "    offspring_population.extend( mating_pool[i][0].crossover_onepoint(mating_pool[i][1]) )\n",
        "    #offspring_population.extend( mating_pool[i][0].crossover_uniform(mating_pool[i][1]) )"
      ],
      "execution_count": 0,
      "outputs": []
    },
    {
      "cell_type": "code",
      "metadata": {
        "id": "FEZLl546AR4o",
        "colab_type": "code",
        "outputId": "61916428-f652-42e7-807e-cf7538808ee2",
        "colab": {
          "base_uri": "https://localhost:8080/",
          "height": 402
        }
      },
      "source": [
        "display(offspring_population)"
      ],
      "execution_count": 331,
      "outputs": [
        {
          "output_type": "execute_result",
          "data": {
            "text/html": [
              "<div>\n",
              "<style scoped>\n",
              "    .dataframe tbody tr th:only-of-type {\n",
              "        vertical-align: middle;\n",
              "    }\n",
              "\n",
              "    .dataframe tbody tr th {\n",
              "        vertical-align: top;\n",
              "    }\n",
              "\n",
              "    .dataframe thead th {\n",
              "        text-align: right;\n",
              "    }\n",
              "</style>\n",
              "<table border=\"1\" class=\"dataframe\">\n",
              "  <thead>\n",
              "    <tr style=\"text-align: right;\">\n",
              "      <th></th>\n",
              "      <th>Poblacion</th>\n",
              "      <th>fitness acumulado</th>\n",
              "      <th>Distancias X</th>\n",
              "      <th>Distancias Y</th>\n",
              "      <th>Población Acumulada</th>\n",
              "    </tr>\n",
              "  </thead>\n",
              "  <tbody>\n",
              "    <tr>\n",
              "      <th>0</th>\n",
              "      <td>[55, 37, 20, 32, 54, 45, 42, 15, 47, 9]</td>\n",
              "      <td>-1.00000</td>\n",
              "      <td>-1.00000</td>\n",
              "      <td>-1.00000</td>\n",
              "      <td>-1</td>\n",
              "    </tr>\n",
              "    <tr>\n",
              "      <th>1</th>\n",
              "      <td>[58, 50, 18, 32, 10, 54, 13, 15, 32, 4]</td>\n",
              "      <td>-1.00000</td>\n",
              "      <td>-1.00000</td>\n",
              "      <td>-1.00000</td>\n",
              "      <td>-1</td>\n",
              "    </tr>\n",
              "    <tr>\n",
              "      <th>2</th>\n",
              "      <td>[24, 47, 13, 58, 58, 57, 44, 28, 49, 24]</td>\n",
              "      <td>147804.85497</td>\n",
              "      <td>2.02372</td>\n",
              "      <td>2.83125</td>\n",
              "      <td>147800</td>\n",
              "    </tr>\n",
              "    <tr>\n",
              "      <th>3</th>\n",
              "      <td>[14, 42, 2, 40, 33, 47, 4, 50, 17, 42]</td>\n",
              "      <td>133455.31594</td>\n",
              "      <td>1.55828</td>\n",
              "      <td>3.75766</td>\n",
              "      <td>133450</td>\n",
              "    </tr>\n",
              "    <tr>\n",
              "      <th>4</th>\n",
              "      <td>[14, 49, 44, 15, 4, 54, 26, 10, 42, 25]</td>\n",
              "      <td>-1.00000</td>\n",
              "      <td>-1.00000</td>\n",
              "      <td>-1.00000</td>\n",
              "      <td>-1</td>\n",
              "    </tr>\n",
              "    <tr>\n",
              "      <th>...</th>\n",
              "      <td>...</td>\n",
              "      <td>...</td>\n",
              "      <td>...</td>\n",
              "      <td>...</td>\n",
              "      <td>...</td>\n",
              "    </tr>\n",
              "    <tr>\n",
              "      <th>95</th>\n",
              "      <td>[55, 37, 30, 44, 16, 12, 23, 23, 36, 7]</td>\n",
              "      <td>-1.00000</td>\n",
              "      <td>-1.00000</td>\n",
              "      <td>-1.00000</td>\n",
              "      <td>-1</td>\n",
              "    </tr>\n",
              "    <tr>\n",
              "      <th>96</th>\n",
              "      <td>[23, 55, 51, 20, 15, 15, 58, 29, 18, 44]</td>\n",
              "      <td>-1.00000</td>\n",
              "      <td>-1.00000</td>\n",
              "      <td>-1.00000</td>\n",
              "      <td>-1</td>\n",
              "    </tr>\n",
              "    <tr>\n",
              "      <th>97</th>\n",
              "      <td>[50, 49, 32, 4, 27, 7, 42, 3, 26, 38]</td>\n",
              "      <td>-1.00000</td>\n",
              "      <td>-1.00000</td>\n",
              "      <td>-1.00000</td>\n",
              "      <td>-1</td>\n",
              "    </tr>\n",
              "    <tr>\n",
              "      <th>98</th>\n",
              "      <td>[55, 37, 20, 32, 54, 45, 42, 15, 47, 9]</td>\n",
              "      <td>141805.19007</td>\n",
              "      <td>2.09418</td>\n",
              "      <td>3.09589</td>\n",
              "      <td>141800</td>\n",
              "    </tr>\n",
              "    <tr>\n",
              "      <th>99</th>\n",
              "      <td>[16, 25, 36, 45, 7, 21, 0, 6, 15, 44]</td>\n",
              "      <td>148104.00591</td>\n",
              "      <td>1.32369</td>\n",
              "      <td>2.68222</td>\n",
              "      <td>148100</td>\n",
              "    </tr>\n",
              "  </tbody>\n",
              "</table>\n",
              "<p>100 rows × 5 columns</p>\n",
              "</div>"
            ],
            "text/plain": [
              "                                   Poblacion  ...  Población Acumulada\n",
              "0    [55, 37, 20, 32, 54, 45, 42, 15, 47, 9]  ...                   -1\n",
              "1    [58, 50, 18, 32, 10, 54, 13, 15, 32, 4]  ...                   -1\n",
              "2   [24, 47, 13, 58, 58, 57, 44, 28, 49, 24]  ...               147800\n",
              "3     [14, 42, 2, 40, 33, 47, 4, 50, 17, 42]  ...               133450\n",
              "4    [14, 49, 44, 15, 4, 54, 26, 10, 42, 25]  ...                   -1\n",
              "..                                       ...  ...                  ...\n",
              "95   [55, 37, 30, 44, 16, 12, 23, 23, 36, 7]  ...                   -1\n",
              "96  [23, 55, 51, 20, 15, 15, 58, 29, 18, 44]  ...                   -1\n",
              "97     [50, 49, 32, 4, 27, 7, 42, 3, 26, 38]  ...                   -1\n",
              "98   [55, 37, 20, 32, 54, 45, 42, 15, 47, 9]  ...               141800\n",
              "99     [16, 25, 36, 45, 7, 21, 0, 6, 15, 44]  ...               148100\n",
              "\n",
              "[100 rows x 5 columns]"
            ]
          },
          "metadata": {
            "tags": []
          },
          "execution_count": 331
        }
      ]
    },
    {
      "cell_type": "markdown",
      "metadata": {
        "id": "pEJD-7iJAR4s",
        "colab_type": "text"
      },
      "source": [
        "## Probando Mutacion"
      ]
    },
    {
      "cell_type": "code",
      "metadata": {
        "id": "gfI0km6BAR4u",
        "colab_type": "code",
        "colab": {}
      },
      "source": [
        "pmut=0.8\n",
        "## Aplica el operador de mutacion con probabilidad pmut en cada hijo generado\n",
        "for i in range(len(offspring_population)):\n",
        "    if random.uniform(0, 1) < pmut: \n",
        "        offspring_population[i] = offspring_population[i].mutate_swap()\n",
        "       #offspring_population[i] = offspring_population[i].mutate_position()"
      ],
      "execution_count": 0,
      "outputs": []
    },
    {
      "cell_type": "code",
      "metadata": {
        "id": "bAhuiQQHAR4z",
        "colab_type": "code",
        "outputId": "66b4b997-b1f7-423e-a9ad-58037fbfca37",
        "colab": {
          "base_uri": "https://localhost:8080/",
          "height": 402
        }
      },
      "source": [
        "display(offspring_population)"
      ],
      "execution_count": 333,
      "outputs": [
        {
          "output_type": "execute_result",
          "data": {
            "text/html": [
              "<div>\n",
              "<style scoped>\n",
              "    .dataframe tbody tr th:only-of-type {\n",
              "        vertical-align: middle;\n",
              "    }\n",
              "\n",
              "    .dataframe tbody tr th {\n",
              "        vertical-align: top;\n",
              "    }\n",
              "\n",
              "    .dataframe thead th {\n",
              "        text-align: right;\n",
              "    }\n",
              "</style>\n",
              "<table border=\"1\" class=\"dataframe\">\n",
              "  <thead>\n",
              "    <tr style=\"text-align: right;\">\n",
              "      <th></th>\n",
              "      <th>Poblacion</th>\n",
              "      <th>fitness acumulado</th>\n",
              "      <th>Distancias X</th>\n",
              "      <th>Distancias Y</th>\n",
              "      <th>Población Acumulada</th>\n",
              "    </tr>\n",
              "  </thead>\n",
              "  <tbody>\n",
              "    <tr>\n",
              "      <th>0</th>\n",
              "      <td>[55, 37, 5, 32, 54, 45, 42, 15, 47, 9]</td>\n",
              "      <td>-1.00000</td>\n",
              "      <td>-1.00000</td>\n",
              "      <td>-1.00000</td>\n",
              "      <td>-1</td>\n",
              "    </tr>\n",
              "    <tr>\n",
              "      <th>1</th>\n",
              "      <td>[58, 50, 18, 5, 10, 54, 13, 15, 32, 4]</td>\n",
              "      <td>-1.00000</td>\n",
              "      <td>-1.00000</td>\n",
              "      <td>-1.00000</td>\n",
              "      <td>-1</td>\n",
              "    </tr>\n",
              "    <tr>\n",
              "      <th>2</th>\n",
              "      <td>[24, 47, 13, 58, 3, 57, 44, 28, 49, 24]</td>\n",
              "      <td>-1.00000</td>\n",
              "      <td>-1.00000</td>\n",
              "      <td>-1.00000</td>\n",
              "      <td>-1</td>\n",
              "    </tr>\n",
              "    <tr>\n",
              "      <th>3</th>\n",
              "      <td>[14, 42, 2, 40, 33, 47, 4, 50, 17, 42]</td>\n",
              "      <td>133455.31594</td>\n",
              "      <td>1.55828</td>\n",
              "      <td>3.75766</td>\n",
              "      <td>133450</td>\n",
              "    </tr>\n",
              "    <tr>\n",
              "      <th>4</th>\n",
              "      <td>[14, 49, 44, 15, 4, 54, 26, 10, 1, 25]</td>\n",
              "      <td>-1.00000</td>\n",
              "      <td>-1.00000</td>\n",
              "      <td>-1.00000</td>\n",
              "      <td>-1</td>\n",
              "    </tr>\n",
              "    <tr>\n",
              "      <th>...</th>\n",
              "      <td>...</td>\n",
              "      <td>...</td>\n",
              "      <td>...</td>\n",
              "      <td>...</td>\n",
              "      <td>...</td>\n",
              "    </tr>\n",
              "    <tr>\n",
              "      <th>95</th>\n",
              "      <td>[55, 37, 30, 44, 16, 12, 23, 23, 36, 7]</td>\n",
              "      <td>-1.00000</td>\n",
              "      <td>-1.00000</td>\n",
              "      <td>-1.00000</td>\n",
              "      <td>-1</td>\n",
              "    </tr>\n",
              "    <tr>\n",
              "      <th>96</th>\n",
              "      <td>[23, 55, 51, 20, 7, 15, 58, 29, 18, 44]</td>\n",
              "      <td>-1.00000</td>\n",
              "      <td>-1.00000</td>\n",
              "      <td>-1.00000</td>\n",
              "      <td>-1</td>\n",
              "    </tr>\n",
              "    <tr>\n",
              "      <th>97</th>\n",
              "      <td>[50, 49, 32, 4, 27, 7, 42, 3, 26, 38]</td>\n",
              "      <td>-1.00000</td>\n",
              "      <td>-1.00000</td>\n",
              "      <td>-1.00000</td>\n",
              "      <td>-1</td>\n",
              "    </tr>\n",
              "    <tr>\n",
              "      <th>98</th>\n",
              "      <td>[55, 37, 20, 32, 54, 45, 42, 8, 47, 9]</td>\n",
              "      <td>-1.00000</td>\n",
              "      <td>-1.00000</td>\n",
              "      <td>-1.00000</td>\n",
              "      <td>-1</td>\n",
              "    </tr>\n",
              "    <tr>\n",
              "      <th>99</th>\n",
              "      <td>[16, 25, 36, 45, 7, 21, 4, 6, 15, 44]</td>\n",
              "      <td>-1.00000</td>\n",
              "      <td>-1.00000</td>\n",
              "      <td>-1.00000</td>\n",
              "      <td>-1</td>\n",
              "    </tr>\n",
              "  </tbody>\n",
              "</table>\n",
              "<p>100 rows × 5 columns</p>\n",
              "</div>"
            ],
            "text/plain": [
              "                                  Poblacion  ...  Población Acumulada\n",
              "0    [55, 37, 5, 32, 54, 45, 42, 15, 47, 9]  ...                   -1\n",
              "1    [58, 50, 18, 5, 10, 54, 13, 15, 32, 4]  ...                   -1\n",
              "2   [24, 47, 13, 58, 3, 57, 44, 28, 49, 24]  ...                   -1\n",
              "3    [14, 42, 2, 40, 33, 47, 4, 50, 17, 42]  ...               133450\n",
              "4    [14, 49, 44, 15, 4, 54, 26, 10, 1, 25]  ...                   -1\n",
              "..                                      ...  ...                  ...\n",
              "95  [55, 37, 30, 44, 16, 12, 23, 23, 36, 7]  ...                   -1\n",
              "96  [23, 55, 51, 20, 7, 15, 58, 29, 18, 44]  ...                   -1\n",
              "97    [50, 49, 32, 4, 27, 7, 42, 3, 26, 38]  ...                   -1\n",
              "98   [55, 37, 20, 32, 54, 45, 42, 8, 47, 9]  ...                   -1\n",
              "99    [16, 25, 36, 45, 7, 21, 4, 6, 15, 44]  ...                   -1\n",
              "\n",
              "[100 rows x 5 columns]"
            ]
          },
          "metadata": {
            "tags": []
          },
          "execution_count": 333
        }
      ]
    },
    {
      "cell_type": "markdown",
      "metadata": {
        "id": "WP-NnjZzAR41",
        "colab_type": "text"
      },
      "source": [
        "## Evalua la nueva poblacion despues de pasar por los operadores de reproduccion"
      ]
    },
    {
      "cell_type": "code",
      "metadata": {
        "id": "d3AhViI-AR41",
        "colab_type": "code",
        "outputId": "e695a244-0008-4e87-c214-1b86fbf10408",
        "colab": {
          "base_uri": "https://localhost:8080/",
          "height": 402
        }
      },
      "source": [
        "fitness_fn=fun_fitness_cuad\n",
        "## Evalua la nueva poblacion\n",
        "population2=evaluate_population(offspring_population,fitness_fn)  # evalua la poblacion inicial\n",
        "display(population2)"
      ],
      "execution_count": 334,
      "outputs": [
        {
          "output_type": "execute_result",
          "data": {
            "text/html": [
              "<div>\n",
              "<style scoped>\n",
              "    .dataframe tbody tr th:only-of-type {\n",
              "        vertical-align: middle;\n",
              "    }\n",
              "\n",
              "    .dataframe tbody tr th {\n",
              "        vertical-align: top;\n",
              "    }\n",
              "\n",
              "    .dataframe thead th {\n",
              "        text-align: right;\n",
              "    }\n",
              "</style>\n",
              "<table border=\"1\" class=\"dataframe\">\n",
              "  <thead>\n",
              "    <tr style=\"text-align: right;\">\n",
              "      <th></th>\n",
              "      <th>Poblacion</th>\n",
              "      <th>fitness acumulado</th>\n",
              "      <th>Distancias X</th>\n",
              "      <th>Distancias Y</th>\n",
              "      <th>Población Acumulada</th>\n",
              "    </tr>\n",
              "  </thead>\n",
              "  <tbody>\n",
              "    <tr>\n",
              "      <th>0</th>\n",
              "      <td>[55, 37, 5, 32, 54, 45, 42, 15, 47, 9]</td>\n",
              "      <td>144655.26459</td>\n",
              "      <td>2.08064</td>\n",
              "      <td>3.18395</td>\n",
              "      <td>144650</td>\n",
              "    </tr>\n",
              "    <tr>\n",
              "      <th>1</th>\n",
              "      <td>[58, 50, 18, 5, 10, 54, 13, 15, 32, 4]</td>\n",
              "      <td>164653.80429</td>\n",
              "      <td>1.69944</td>\n",
              "      <td>2.10485</td>\n",
              "      <td>164650</td>\n",
              "    </tr>\n",
              "    <tr>\n",
              "      <th>2</th>\n",
              "      <td>[24, 47, 13, 58, 3, 57, 44, 28, 49, 24]</td>\n",
              "      <td>144305.02638</td>\n",
              "      <td>2.08477</td>\n",
              "      <td>2.94161</td>\n",
              "      <td>144300</td>\n",
              "    </tr>\n",
              "    <tr>\n",
              "      <th>3</th>\n",
              "      <td>[14, 42, 2, 40, 33, 47, 4, 50, 17, 42]</td>\n",
              "      <td>133455.31594</td>\n",
              "      <td>1.55828</td>\n",
              "      <td>3.75766</td>\n",
              "      <td>133450</td>\n",
              "    </tr>\n",
              "    <tr>\n",
              "      <th>4</th>\n",
              "      <td>[14, 49, 44, 15, 4, 54, 26, 10, 1, 25]</td>\n",
              "      <td>158003.87983</td>\n",
              "      <td>1.70514</td>\n",
              "      <td>2.17469</td>\n",
              "      <td>158000</td>\n",
              "    </tr>\n",
              "    <tr>\n",
              "      <th>...</th>\n",
              "      <td>...</td>\n",
              "      <td>...</td>\n",
              "      <td>...</td>\n",
              "      <td>...</td>\n",
              "      <td>...</td>\n",
              "    </tr>\n",
              "    <tr>\n",
              "      <th>95</th>\n",
              "      <td>[55, 37, 30, 44, 16, 12, 23, 23, 36, 7]</td>\n",
              "      <td>134204.89299</td>\n",
              "      <td>1.25068</td>\n",
              "      <td>3.64231</td>\n",
              "      <td>134200</td>\n",
              "    </tr>\n",
              "    <tr>\n",
              "      <th>96</th>\n",
              "      <td>[23, 55, 51, 20, 7, 15, 58, 29, 18, 44]</td>\n",
              "      <td>145404.56777</td>\n",
              "      <td>1.84876</td>\n",
              "      <td>2.71901</td>\n",
              "      <td>145400</td>\n",
              "    </tr>\n",
              "    <tr>\n",
              "      <th>97</th>\n",
              "      <td>[50, 49, 32, 4, 27, 7, 42, 3, 26, 38]</td>\n",
              "      <td>126305.73222</td>\n",
              "      <td>1.83562</td>\n",
              "      <td>3.89660</td>\n",
              "      <td>126300</td>\n",
              "    </tr>\n",
              "    <tr>\n",
              "      <th>98</th>\n",
              "      <td>[55, 37, 20, 32, 54, 45, 42, 8, 47, 9]</td>\n",
              "      <td>142055.25589</td>\n",
              "      <td>2.08035</td>\n",
              "      <td>3.17554</td>\n",
              "      <td>142050</td>\n",
              "    </tr>\n",
              "    <tr>\n",
              "      <th>99</th>\n",
              "      <td>[16, 25, 36, 45, 7, 21, 4, 6, 15, 44]</td>\n",
              "      <td>148704.03862</td>\n",
              "      <td>1.32619</td>\n",
              "      <td>2.71243</td>\n",
              "      <td>148700</td>\n",
              "    </tr>\n",
              "  </tbody>\n",
              "</table>\n",
              "<p>100 rows × 5 columns</p>\n",
              "</div>"
            ],
            "text/plain": [
              "                                  Poblacion  ...  Población Acumulada\n",
              "0    [55, 37, 5, 32, 54, 45, 42, 15, 47, 9]  ...               144650\n",
              "1    [58, 50, 18, 5, 10, 54, 13, 15, 32, 4]  ...               164650\n",
              "2   [24, 47, 13, 58, 3, 57, 44, 28, 49, 24]  ...               144300\n",
              "3    [14, 42, 2, 40, 33, 47, 4, 50, 17, 42]  ...               133450\n",
              "4    [14, 49, 44, 15, 4, 54, 26, 10, 1, 25]  ...               158000\n",
              "..                                      ...  ...                  ...\n",
              "95  [55, 37, 30, 44, 16, 12, 23, 23, 36, 7]  ...               134200\n",
              "96  [23, 55, 51, 20, 7, 15, 58, 29, 18, 44]  ...               145400\n",
              "97    [50, 49, 32, 4, 27, 7, 42, 3, 26, 38]  ...               126300\n",
              "98   [55, 37, 20, 32, 54, 45, 42, 8, 47, 9]  ...               142050\n",
              "99    [16, 25, 36, 45, 7, 21, 4, 6, 15, 44]  ...               148700\n",
              "\n",
              "[100 rows x 5 columns]"
            ]
          },
          "metadata": {
            "tags": []
          },
          "execution_count": 334
        }
      ]
    },
    {
      "cell_type": "markdown",
      "metadata": {
        "id": "4p1zDtE64Ec5",
        "colab_type": "text"
      },
      "source": [
        "## Juntando todo"
      ]
    },
    {
      "cell_type": "code",
      "metadata": {
        "id": "FHuQYbx2C2n0",
        "colab_type": "code",
        "colab": {
          "base_uri": "https://localhost:8080/",
          "height": 210
        },
        "outputId": "84e27d0d-4b75-4375-fd0e-289d9d13faab"
      },
      "source": [
        "print('Ejecución\\tIndividuo\\tIteración\\tFitness\\tSuma de distancias X\\tSuma de distancias Y\\tSuma de población')\n",
        "for ejecucion in range(0,10):\n",
        "  population_iter = []\n",
        "  population_best = []\n",
        "  best_fitness = 0\n",
        "  best_a = 0\n",
        "  random.seed()\n",
        "  population = init_population(num_individuals,ind_size, allele_pool)\n",
        "  for a in range(0,500):\n",
        "    offspring_population = []\n",
        "    for i in range(len(mating_pool)): \n",
        "      offspring_population.extend( mating_pool[i][0].crossover_onepoint(mating_pool[i][1]))\n",
        "    for i in range(len(offspring_population)):\n",
        "      if random.uniform(0, 1) < pmut: \n",
        "          offspring_population[i] = offspring_population[i].mutate_swap()\n",
        "    population_iter=evaluate_population(offspring_population,fitness_fn)\n",
        "\n",
        "  #Torneo\n",
        "  size_torneo = 3\n",
        "  winner1,winner2=select_parent_torneo(population_iter,size_torneo)\n",
        "  print(ejecucion + 1, winner1.chromosome, '-',winner1.fitness,winner1.fitness_sep[1],winner1.fitness_sep[2],winner1.fitness_sep[3], sep='\\t' )\n",
        "  "
      ],
      "execution_count": 335,
      "outputs": [
        {
          "output_type": "stream",
          "text": [
            "Ejecución\tIndividuo\tIteración\tFitness\tSuma de distancias X\tSuma de distancias Y\tSuma de población\n",
            "1\t[47, 7, 22, 42, 0, 51, 23, 58, 52, 4]\t-\t159703.79331\t1.8756400000000006\t1.917670000000001\t159700\n",
            "2\t[58, 59, 48, 25, 1, 22, 46, 10, 34, 58]\t-\t163303.89037\t1.826139999999997\t2.0642299999999807\t163300\n",
            "3\t[24, 53, 53, 50, 1, 41, 4, 2, 50, 22]\t-\t163503.67429\t1.7485500000000123\t1.9257399999999478\t163500\n",
            "4\t[28, 7, 22, 42, 0, 51, 23, 58, 52, 4]\t-\t146604.78901\t1.872779999999997\t2.9162299999999846\t146600\n",
            "5\t[58, 37, 20, 32, 54, 45, 42, 15, 47, 5]\t-\t141255.16895\t2.100110000000008\t3.068840000000023\t141250\n",
            "6\t[21, 8, 13, 48, 16, 19, 2, 10, 3, 58]\t-\t170402.29633\t1.396219999999996\t0.900110000000069\t170400\n",
            "7\t[1, 48, 51, 59, 37, 53, 3, 18, 20, 24]\t-\t158253.68329\t1.7654500000000137\t1.917839999999856\t158250\n",
            "8\t[19, 29, 53, 1, 22, 57, 43, 47, 3, 59]\t-\t143804.65433\t1.9179400000000104\t2.7363900000000143\t143800\n",
            "9\t[12, 59, 34, 51, 22, 9, 47, 56, 50, 10]\t-\t161904.06804\t1.9712200000000006\t2.096820000000008\t161900\n",
            "10\t[20, 36, 15, 10, 29, 25, 18, 18, 51, 51]\t-\t135504.51716\t1.7451600000000127\t2.7719999999998635\t135500\n"
          ],
          "name": "stdout"
        }
      ]
    },
    {
      "cell_type": "code",
      "metadata": {
        "id": "JaxaaWtI4G1n",
        "colab_type": "code",
        "outputId": "5b946ea9-ff7d-4f8f-e648-779bace60c57",
        "colab": {
          "base_uri": "https://localhost:8080/",
          "height": 210
        }
      },
      "source": [
        "print('Ejecución\\tIndividuo\\tIteración\\tFitness\\tSuma de distancias X\\tSuma de distancias Y\\tSuma de población')\n",
        "for ejecucion in range(0,10):\n",
        "  population_iter = []\n",
        "  population_best = []\n",
        "  best_fitness = 0\n",
        "  best_a = 0\n",
        "  random.seed()\n",
        "  population = init_population(num_individuals,ind_size, allele_pool)\n",
        "  for a in range(0,500):\n",
        "    offspring_population = []\n",
        "    for i in range(len(mating_pool)): \n",
        "      offspring_population.extend( mating_pool[i][0].crossover_onepoint(mating_pool[i][1]))\n",
        "    for i in range(len(offspring_population)):\n",
        "      if random.uniform(0, 1) < pmut: \n",
        "          offspring_population[i] = offspring_population[i].mutate_swap()\n",
        "    population_iter=evaluate_population(offspring_population,fitness_fn)\n",
        "    max_fitness = max(map(lambda x: x.fitness, population_iter))\n",
        "    i = 0\n",
        "    for pop in population_iter:\n",
        "      if pop.fitness == max_fitness:\n",
        "        break\n",
        "      else:\n",
        "        i += 1\n",
        "    if population_iter[i].fitness > best_fitness:\n",
        "      best_fitness = population_iter[i].fitness\n",
        "      population_best = population_iter[i]\n",
        "      best_a = a\n",
        "  population_best.chromosome.sort()\n",
        "  print(ejecucion + 1,population_best.chromosome,best_a+1,population_best.fitness,population_best.fitness_sep[1],population_best.fitness_sep[2],population_best.fitness_sep[3], sep='\\t' )\n"
      ],
      "execution_count": 336,
      "outputs": [
        {
          "output_type": "stream",
          "text": [
            "Ejecución\tIndividuo\tIteración\tFitness\tSuma de distancias X\tSuma de distancias Y\tSuma de población\n",
            "1\t[1, 2, 10, 16, 19, 48, 48, 58, 58, 59]\t492\t179052.96898\t1.7802000000000007\t1.1887799999999231\t179050\n",
            "2\t[1, 9, 13, 16, 17, 45, 49, 58, 59, 59]\t26\t178553.01134\t1.8534499999999916\t1.1578899999999663\t178550\n",
            "3\t[1, 9, 13, 16, 17, 45, 49, 58, 59, 59]\t93\t178553.01134\t1.8534499999999916\t1.1578899999999663\t178550\n",
            "4\t[1, 2, 10, 16, 19, 48, 48, 58, 58, 59]\t454\t179052.96898\t1.7802000000000007\t1.1887799999999231\t179050\n",
            "5\t[1, 2, 10, 16, 19, 48, 48, 58, 58, 59]\t245\t179052.96898\t1.7802000000000007\t1.1887799999999231\t179050\n",
            "6\t[1, 9, 13, 16, 17, 45, 49, 58, 59, 59]\t252\t178553.01134\t1.8534499999999916\t1.1578899999999663\t178550\n",
            "7\t[2, 9, 10, 16, 19, 48, 48, 58, 58, 59]\t302\t178453.01237\t1.8129499999999954\t1.1994199999999182\t178450\n",
            "8\t[2, 7, 10, 16, 19, 48, 48, 58, 58, 59]\t309\t178452.9912\t1.814599999999995\t1.1765999999999366\t178450\n",
            "9\t[1, 9, 13, 16, 17, 45, 49, 58, 59, 59]\t460\t178553.01134\t1.8534499999999916\t1.1578899999999663\t178550\n",
            "10\t[2, 9, 10, 16, 19, 48, 48, 58, 58, 59]\t274\t178453.01237\t1.8129499999999954\t1.1994199999999182\t178450\n"
          ],
          "name": "stdout"
        }
      ]
    }
  ]
}