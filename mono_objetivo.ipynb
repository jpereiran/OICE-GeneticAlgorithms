{
  "nbformat": 4,
  "nbformat_minor": 0,
  "metadata": {
    "kernelspec": {
      "name": "python3",
      "display_name": "Python 3"
    },
    "language_info": {
      "codemirror_mode": {
        "name": "ipython",
        "version": 3
      },
      "file_extension": ".py",
      "mimetype": "text/x-python",
      "name": "python",
      "nbconvert_exporter": "python",
      "pygments_lexer": "ipython3",
      "version": "3.7.3"
    },
    "toc": {
      "base_numbering": 1,
      "nav_menu": {},
      "number_sections": true,
      "sideBar": true,
      "skip_h1_title": false,
      "title_cell": "Table of Contents",
      "title_sidebar": "Contents",
      "toc_cell": false,
      "toc_position": {},
      "toc_section_display": true,
      "toc_window_display": false
    },
    "colab": {
      "name": "mono-objetivo.ipynb",
      "provenance": [],
      "collapsed_sections": []
    },
    "accelerator": "GPU"
  },
  "cells": [
    {
      "cell_type": "markdown",
      "metadata": {
        "id": "4wI5ba8Xd00g",
        "colab_type": "text"
      },
      "source": [
        "# Creating a mono-objective algorith to find the optimal construction localization of new supermarkets in a city"
      ]
    },
    {
      "cell_type": "markdown",
      "metadata": {
        "id": "RnPMsdcmePLv",
        "colab_type": "text"
      },
      "source": [
        "## Create the classes and functions for the mono-objective algorithm"
      ]
    },
    {
      "cell_type": "code",
      "metadata": {
        "id": "86MJFawtAR3z",
        "colab_type": "code",
        "colab": {}
      },
      "source": [
        "import sys\n",
        "import time\n",
        "import random\n",
        "import numpy as np\n",
        "from copy import deepcopy\n",
        "import pandas as pd\n",
        "import matplotlib.pyplot as plt\n",
        "import heapq\n",
        "from itertools import combinations "
      ],
      "execution_count": 0,
      "outputs": []
    },
    {
      "cell_type": "markdown",
      "metadata": {
        "id": "KjHZ7xDvAR35",
        "colab_type": "text"
      },
      "source": [
        "### Individual Class"
      ]
    },
    {
      "cell_type": "code",
      "metadata": {
        "id": "wu-JJX4gAR36",
        "colab_type": "code",
        "colab": {}
      },
      "source": [
        "class Individual(object):   \n",
        "   \n",
        "    def __init__(self, chromosome, size):\n",
        "            self.chromosome = chromosome[:]\n",
        "            self.allele_pool = allele_pool\n",
        "            self.fitness = -1\n",
        "            self.fitness_sep = [-1,-1,-1,-1]\n",
        "            \n",
        "    def crossover_onepoint(self, other):\n",
        "        c = random.randrange(len(self.chromosome))\n",
        "        if len((set(self.chromosome[:c]) & set(other.chromosome[c:])))==0:\n",
        "          ind1 = Individual(self.chromosome[:c] + other.chromosome[c:], allele_pool)\n",
        "          ind2 = Individual(other.chromosome[:c] + self.chromosome[c:], allele_pool)\n",
        "          return [ind1, ind2]\n",
        "        else:\n",
        "          return [self, other]   \n",
        "    \n",
        "    \n",
        "    def crossover_uniform(self, other):\n",
        "        chromosome1 = []\n",
        "        chromosome2 = []\n",
        "        for i in range(len(self.chromosome)):\n",
        "            if random.uniform(0, 1) < 0.5:\n",
        "                chromosome1.append(self.chromosome[i])\n",
        "                chromosome2.append(other.chromosome[i])\n",
        "            else:\n",
        "                chromosome1.append(other.chromosome[i])\n",
        "                chromosome2.append(self.chromosome[i])\n",
        "        ind1 = Individual(chromosome1, allele_pool)\n",
        "        ind2 = Individual(chromosome2, allele_pool)\n",
        "        return [ind1, ind2] \n",
        "\n",
        "    def mutate_position(self): \n",
        "        \"\"\"       Bit flip  \"\"\"\n",
        "        mutated_chromosome = deepcopy(self.chromosome)\n",
        "        mutGene = random.randrange(0,len(mutated_chromosome)) \n",
        "        newAllele = allele_pool[random.randrange(0,len(allele_pool))]\n",
        "        mutated_chromosome[mutGene] = newAllele\n",
        "        return Individual(mutated_chromosome, allele_pool)\n",
        "        \n",
        "    def mutate_swap(self):\n",
        "        mutated_chromosome = deepcopy(self.chromosome)\n",
        "        mutGen1 = random.randrange(0,len(mutated_chromosome))\n",
        "        mutGen2 = random.randrange(0,len(mutated_chromosome))\n",
        "        temp = allele_pool[mutGen1]\n",
        "        if temp not in mutated_chromosome:\n",
        "          mutated_chromosome[mutGen2] = temp\n",
        "        return Individual(mutated_chromosome, allele_pool)     "
      ],
      "execution_count": 0,
      "outputs": []
    },
    {
      "cell_type": "markdown",
      "metadata": {
        "id": "uWSVtniAAR3-",
        "colab_type": "text"
      },
      "source": [
        "### Population Functions"
      ]
    },
    {
      "cell_type": "code",
      "metadata": {
        "id": "u-wn0cyiAR3_",
        "colab_type": "code",
        "colab": {}
      },
      "source": [
        "def init_population(pop_number, chromosome_size, allele_pool):    \n",
        "    num_alleles = len(allele_pool)\n",
        "    population = []\n",
        "    for i in range(pop_number):\n",
        "        new_chromosome = [allele_pool[random.randrange(0, num_alleles)] for j in range(chromosome_size)]\n",
        "        population.append(Individual(new_chromosome, allele_pool) )\n",
        "    return population"
      ],
      "execution_count": 0,
      "outputs": []
    },
    {
      "cell_type": "markdown",
      "metadata": {
        "id": "g3CSuIdtAR4F",
        "colab_type": "text"
      },
      "source": [
        "### Fitness evaluation"
      ]
    },
    {
      "cell_type": "code",
      "metadata": {
        "id": "3pQ2su1-AR4G",
        "colab_type": "code",
        "colab": {}
      },
      "source": [
        "def fun_fitness_cuad(cromosoma):\n",
        "    n = 0\n",
        "    for c in cromosoma:\n",
        "      n +=  pob_pool[c]\n",
        "\n",
        "    comb = combinations(cromosoma, 2) \n",
        "    dist_x = 0\n",
        "    dist_y = 0\n",
        "    for com in comb:\n",
        "      dist_x += abs(x_pool[com[0]] - x_pool[com[1]])\n",
        "      dist_y += abs(y_pool[com[0]] - y_pool[com[1]])\n",
        "    total = dist_x + dist_y + n\n",
        "\n",
        "    return total"
      ],
      "execution_count": 0,
      "outputs": []
    },
    {
      "cell_type": "code",
      "metadata": {
        "id": "NDmlZ1RI0eIh",
        "colab_type": "code",
        "colab": {}
      },
      "source": [
        "def fun_fitness_cuad_sep(cromosoma):\n",
        "    n = 0\n",
        "    for c in cromosoma:\n",
        "      n +=  pob_pool[c]\n",
        "\n",
        "    comb = combinations(cromosoma, 2) \n",
        "    dist_x = 0\n",
        "    dist_y = 0\n",
        "    for com in comb:\n",
        "      dist_x += abs(x_pool[com[0]] - x_pool[com[1]])\n",
        "      dist_y += abs(y_pool[com[0]] - y_pool[com[1]])\n",
        "    total = dist_x + dist_y + n\n",
        "\n",
        "    return [total,dist_x, dist_y,n]"
      ],
      "execution_count": 0,
      "outputs": []
    },
    {
      "cell_type": "code",
      "metadata": {
        "id": "I06jVtM1AR4K",
        "colab_type": "code",
        "colab": {}
      },
      "source": [
        "def evaluate_population(population,fitness_fn): \n",
        "    for i in range(len(population)):\n",
        "        if population[i].fitness == -1:    # evalua solo si el individuo no esta evaluado\n",
        "            population[i].fitness = fitness_fn(population[i].chromosome)\n",
        "            population[i].fitness_sep = fun_fitness_cuad_sep(population[i].chromosome)\n",
        "    return population"
      ],
      "execution_count": 0,
      "outputs": []
    },
    {
      "cell_type": "markdown",
      "metadata": {
        "id": "mM-Ufa3hAR4J",
        "colab_type": "text"
      },
      "source": [
        "### Display the population"
      ]
    },
    {
      "cell_type": "code",
      "metadata": {
        "id": "dWavI0SPAR4N",
        "colab_type": "code",
        "colab": {}
      },
      "source": [
        "def display(population):\n",
        "    listaAG=[]\n",
        "    for i in range(len(population)):\n",
        "      listaAG.append([population[i].chromosome,population[i].fitness,population[i].fitness_sep[1],population[i].fitness_sep[2],population[i].fitness_sep[3]])\n",
        "\n",
        "    data=pd.DataFrame(listaAG)\n",
        "    data.columns = ['Poblacion','fitness acumulado', 'Distancias X', 'Distancias Y', 'Población Acumulada']\n",
        "    return data"
      ],
      "execution_count": 0,
      "outputs": []
    },
    {
      "cell_type": "markdown",
      "metadata": {
        "id": "0jHBIE2yAR4P",
        "colab_type": "text"
      },
      "source": [
        "### Parent Selection"
      ]
    },
    {
      "cell_type": "markdown",
      "metadata": {
        "id": "2_uAcT_tAR4Q",
        "colab_type": "text"
      },
      "source": [
        "####  Roulette"
      ]
    },
    {
      "cell_type": "code",
      "metadata": {
        "id": "fWEAuk7bAR4Q",
        "colab_type": "code",
        "colab": {}
      },
      "source": [
        "def select_parents_roulette(population):\n",
        "    popsize = len(population)\n",
        "  \n",
        "    sumfitness = sum([indiv.fitness for indiv in population])\n",
        "    pickfitness = random.uniform(0, sumfitness)  \n",
        "    cumfitness = 0   \n",
        "    for i in range(popsize):\n",
        "        cumfitness += population[i].fitness\n",
        "        if cumfitness > pickfitness: \n",
        "            iParent1 = i\n",
        "            break\n",
        "\n",
        "    sumfitness = sumfitness - population[iParent1].fitness\n",
        "    pickfitness = random.uniform(0, sumfitness)  \n",
        "    cumfitness = 0  \n",
        "    for i in range(popsize):\n",
        "        if i == iParent1: continue \n",
        "        cumfitness += population[i].fitness\n",
        "        if cumfitness > pickfitness: \n",
        "            iParent2 = i\n",
        "            break        \n",
        "    return (population[iParent1], population[iParent2])"
      ],
      "execution_count": 0,
      "outputs": []
    },
    {
      "cell_type": "markdown",
      "metadata": {
        "id": "6nwhZjEtAR4T",
        "colab_type": "text"
      },
      "source": [
        "#### Tourney"
      ]
    },
    {
      "cell_type": "code",
      "metadata": {
        "id": "DyNH7kHjAR4U",
        "colab_type": "code",
        "colab": {}
      },
      "source": [
        "def select_parent_torneo(population,size_torneo):\n",
        "    list_indiv=[]\n",
        "    x1 = np.random.permutation(len(population) )\n",
        "    y1= x1[0:size_torneo]\n",
        "    for i in range(size_torneo):\n",
        "        list_indiv.append(population[y1[i]].fitness)\n",
        "    iParent1=np.argmax(list_indiv)\n",
        "    \n",
        "    x2 = np.delete(x1, iParent1)\n",
        "    x2 = np.random.permutation(x2)\n",
        "    list_indiv=[]\n",
        "    y2= x2[0:size_torneo]\n",
        "    for i in range(size_torneo):\n",
        "        list_indiv.append(population[y2[i]].fitness)\n",
        "    iParent2=np.argmax(list_indiv)\n",
        "    \n",
        "    return (population[x1[iParent1]],population[x2[iParent2]])"
      ],
      "execution_count": 0,
      "outputs": []
    },
    {
      "cell_type": "markdown",
      "metadata": {
        "id": "KtHRolmmAR4W",
        "colab_type": "text"
      },
      "source": [
        "## Create a new population and test the functions"
      ]
    },
    {
      "cell_type": "markdown",
      "metadata": {
        "id": "YhxnZIu3tuJf",
        "colab_type": "text"
      },
      "source": [
        "### X and Y cordinates of the supermarkets and number of citizens in the area"
      ]
    },
    {
      "cell_type": "code",
      "metadata": {
        "id": "WBWzGVeTtryy",
        "colab_type": "code",
        "colab": {}
      },
      "source": [
        "x_pool = [-12.04861,-12.05956,-12.06524,-12.05998,-12.05541,-12.05417,-12.05349,-12.05268,-12.05278,-12.05301,-12.04937,-12.05465,-12.05486,-12.05059,-12.04253,-12.04817,-12.04668,-12.05606,-12.07258,-12.07414,-12.06771,-12.06921,-12.07396,-12.075,-12.09086,-12.09375,-12.09602,-12.02669,-12.0282,-12.03267,-12.03828,-12.03982,-12.04117,-12.0417,-12.04155,-12.03882,-12.03959,-12.03548,-12.03766,-12.03984,-12.04233,-12.04328,-12.04486,-12.04566,-12.03895,-12.12916,-12.13156,-12.13222,-12.1265,-12.1261,-12.12603,-12.12587,-12.12248,-12.12326,-12.12028,-12.1201,-12.12532,-12.12116,-12.12159,-12.11685]\n",
        "y_pool = [-77.06496,-77.07583,-77.07334,-77.063,-77.07497,-77.07472,-77.07362,-77.07409,-77.07104,-77.07735,-77.07948,-77.06952,-77.07655,-77.07666,-77.09595,-77.05867,-77.0726,-77.06726,-77.06884,-77.0629,-77.06214,-77.0593,-77.051,-77.04631,-77.05947,-77.06947,-77.07398,-76.88958,-76.8912,-76.91418,-76.9157,-76.91897,-76.9186,-76.9221,-76.9213,-76.9238,-76.92422,-76.92502,-76.92863,-76.92827,-76.92739,-76.92851,-76.92715,-76.91841,-76.92025,-77.02984,-77.02371,-77.02358,-77.02697,-77.02889,-77.03129,-77.03583,-77.03332,-77.03639,-77.03866,-77.0343,-77.03135,-77.02889,-77.03092,-77.02991]\n",
        "pob_pool = [16500,18000,17000,15000,17100,17350,17300,17400,17350,17400,16900,17200,17300,17500,18500,17100,16400,15950,16800,16950,14500,16400,17300,17000,14900,13900,11500,2900,2500,2000,3800,8500,7500,6000,6000,8600,8500,9200,9900,9900,9200,8700,7900,4000,8600,16000,15800,15600,18400,18800,18300,14500,17900,16950,17600,19000,18600,18000,18500,20000]"
      ],
      "execution_count": 0,
      "outputs": []
    },
    {
      "cell_type": "markdown",
      "metadata": {
        "id": "csG2F8COt2Nk",
        "colab_type": "text"
      },
      "source": [
        "### Create a new population"
      ]
    },
    {
      "cell_type": "code",
      "metadata": {
        "id": "6DMgpHabA1-M",
        "colab_type": "code",
        "outputId": "fb326891-dd9a-4230-b48e-f7370e0a344c",
        "colab": {
          "base_uri": "https://localhost:8080/",
          "height": 0
        }
      },
      "source": [
        "num_individuals = 100\n",
        "ind_size        = 10\n",
        "allele_pool = [0,1,2,3,4,5,6,7,8,9,10,11,12,13,14,15,16,17,18,19,20,21,22,23,24,25,26,27,28,29,30,31,32,33,34,35,36,37,38,39,40,41,42,43,44,45,46,47,48,49,50,51,52,53,54,55,56,57,58,59]\n",
        "\n",
        "population = init_population(num_individuals,ind_size, allele_pool)\n",
        "display(population)\n"
      ],
      "execution_count": 11,
      "outputs": [
        {
          "output_type": "execute_result",
          "data": {
            "text/html": [
              "<div>\n",
              "<style scoped>\n",
              "    .dataframe tbody tr th:only-of-type {\n",
              "        vertical-align: middle;\n",
              "    }\n",
              "\n",
              "    .dataframe tbody tr th {\n",
              "        vertical-align: top;\n",
              "    }\n",
              "\n",
              "    .dataframe thead th {\n",
              "        text-align: right;\n",
              "    }\n",
              "</style>\n",
              "<table border=\"1\" class=\"dataframe\">\n",
              "  <thead>\n",
              "    <tr style=\"text-align: right;\">\n",
              "      <th></th>\n",
              "      <th>Poblacion</th>\n",
              "      <th>fitness acumulado</th>\n",
              "      <th>Distancias X</th>\n",
              "      <th>Distancias Y</th>\n",
              "      <th>Población Acumulada</th>\n",
              "    </tr>\n",
              "  </thead>\n",
              "  <tbody>\n",
              "    <tr>\n",
              "      <th>0</th>\n",
              "      <td>[35, 20, 28, 26, 5, 53, 9, 10, 34, 53]</td>\n",
              "      <td>-1</td>\n",
              "      <td>-1</td>\n",
              "      <td>-1</td>\n",
              "      <td>-1</td>\n",
              "    </tr>\n",
              "    <tr>\n",
              "      <th>1</th>\n",
              "      <td>[30, 41, 36, 4, 4, 17, 22, 59, 33, 21]</td>\n",
              "      <td>-1</td>\n",
              "      <td>-1</td>\n",
              "      <td>-1</td>\n",
              "      <td>-1</td>\n",
              "    </tr>\n",
              "    <tr>\n",
              "      <th>2</th>\n",
              "      <td>[20, 42, 43, 49, 55, 34, 12, 26, 36, 24]</td>\n",
              "      <td>-1</td>\n",
              "      <td>-1</td>\n",
              "      <td>-1</td>\n",
              "      <td>-1</td>\n",
              "    </tr>\n",
              "    <tr>\n",
              "      <th>3</th>\n",
              "      <td>[49, 40, 15, 22, 31, 31, 15, 27, 50, 17]</td>\n",
              "      <td>-1</td>\n",
              "      <td>-1</td>\n",
              "      <td>-1</td>\n",
              "      <td>-1</td>\n",
              "    </tr>\n",
              "    <tr>\n",
              "      <th>4</th>\n",
              "      <td>[34, 22, 39, 31, 6, 40, 54, 50, 47, 25]</td>\n",
              "      <td>-1</td>\n",
              "      <td>-1</td>\n",
              "      <td>-1</td>\n",
              "      <td>-1</td>\n",
              "    </tr>\n",
              "    <tr>\n",
              "      <th>...</th>\n",
              "      <td>...</td>\n",
              "      <td>...</td>\n",
              "      <td>...</td>\n",
              "      <td>...</td>\n",
              "      <td>...</td>\n",
              "    </tr>\n",
              "    <tr>\n",
              "      <th>95</th>\n",
              "      <td>[37, 58, 40, 16, 28, 19, 37, 36, 56, 29]</td>\n",
              "      <td>-1</td>\n",
              "      <td>-1</td>\n",
              "      <td>-1</td>\n",
              "      <td>-1</td>\n",
              "    </tr>\n",
              "    <tr>\n",
              "      <th>96</th>\n",
              "      <td>[38, 10, 10, 5, 37, 58, 47, 56, 24, 41]</td>\n",
              "      <td>-1</td>\n",
              "      <td>-1</td>\n",
              "      <td>-1</td>\n",
              "      <td>-1</td>\n",
              "    </tr>\n",
              "    <tr>\n",
              "      <th>97</th>\n",
              "      <td>[36, 26, 37, 16, 43, 51, 59, 25, 49, 37]</td>\n",
              "      <td>-1</td>\n",
              "      <td>-1</td>\n",
              "      <td>-1</td>\n",
              "      <td>-1</td>\n",
              "    </tr>\n",
              "    <tr>\n",
              "      <th>98</th>\n",
              "      <td>[29, 6, 55, 40, 17, 38, 10, 43, 31, 39]</td>\n",
              "      <td>-1</td>\n",
              "      <td>-1</td>\n",
              "      <td>-1</td>\n",
              "      <td>-1</td>\n",
              "    </tr>\n",
              "    <tr>\n",
              "      <th>99</th>\n",
              "      <td>[5, 33, 41, 29, 51, 14, 0, 17, 36, 4]</td>\n",
              "      <td>-1</td>\n",
              "      <td>-1</td>\n",
              "      <td>-1</td>\n",
              "      <td>-1</td>\n",
              "    </tr>\n",
              "  </tbody>\n",
              "</table>\n",
              "<p>100 rows × 5 columns</p>\n",
              "</div>"
            ],
            "text/plain": [
              "                                   Poblacion  ...  Población Acumulada\n",
              "0     [35, 20, 28, 26, 5, 53, 9, 10, 34, 53]  ...                   -1\n",
              "1     [30, 41, 36, 4, 4, 17, 22, 59, 33, 21]  ...                   -1\n",
              "2   [20, 42, 43, 49, 55, 34, 12, 26, 36, 24]  ...                   -1\n",
              "3   [49, 40, 15, 22, 31, 31, 15, 27, 50, 17]  ...                   -1\n",
              "4    [34, 22, 39, 31, 6, 40, 54, 50, 47, 25]  ...                   -1\n",
              "..                                       ...  ...                  ...\n",
              "95  [37, 58, 40, 16, 28, 19, 37, 36, 56, 29]  ...                   -1\n",
              "96   [38, 10, 10, 5, 37, 58, 47, 56, 24, 41]  ...                   -1\n",
              "97  [36, 26, 37, 16, 43, 51, 59, 25, 49, 37]  ...                   -1\n",
              "98   [29, 6, 55, 40, 17, 38, 10, 43, 31, 39]  ...                   -1\n",
              "99     [5, 33, 41, 29, 51, 14, 0, 17, 36, 4]  ...                   -1\n",
              "\n",
              "[100 rows x 5 columns]"
            ]
          },
          "metadata": {
            "tags": []
          },
          "execution_count": 11
        }
      ]
    },
    {
      "cell_type": "markdown",
      "metadata": {
        "id": "4mh7J8tQAR4b",
        "colab_type": "text"
      },
      "source": [
        "### Evaluate the first population"
      ]
    },
    {
      "cell_type": "code",
      "metadata": {
        "id": "xp8omPJ_AR4b",
        "colab_type": "code",
        "outputId": "a90c6074-2f95-4d12-f10d-2c4d7c619863",
        "colab": {
          "base_uri": "https://localhost:8080/",
          "height": 0
        }
      },
      "source": [
        "fitness_fn=fun_fitness_cuad\n",
        "population=evaluate_population(population,fitness_fn) \n",
        "display(population)"
      ],
      "execution_count": 12,
      "outputs": [
        {
          "output_type": "execute_result",
          "data": {
            "text/html": [
              "<div>\n",
              "<style scoped>\n",
              "    .dataframe tbody tr th:only-of-type {\n",
              "        vertical-align: middle;\n",
              "    }\n",
              "\n",
              "    .dataframe tbody tr th {\n",
              "        vertical-align: top;\n",
              "    }\n",
              "\n",
              "    .dataframe thead th {\n",
              "        text-align: right;\n",
              "    }\n",
              "</style>\n",
              "<table border=\"1\" class=\"dataframe\">\n",
              "  <thead>\n",
              "    <tr style=\"text-align: right;\">\n",
              "      <th></th>\n",
              "      <th>Poblacion</th>\n",
              "      <th>fitness acumulado</th>\n",
              "      <th>Distancias X</th>\n",
              "      <th>Distancias Y</th>\n",
              "      <th>Población Acumulada</th>\n",
              "    </tr>\n",
              "  </thead>\n",
              "  <tbody>\n",
              "    <tr>\n",
              "      <th>0</th>\n",
              "      <td>[35, 20, 28, 26, 5, 53, 9, 10, 34, 53]</td>\n",
              "      <td>128655.45514</td>\n",
              "      <td>1.77515</td>\n",
              "      <td>3.67999</td>\n",
              "      <td>128650</td>\n",
              "    </tr>\n",
              "    <tr>\n",
              "      <th>1</th>\n",
              "      <td>[30, 41, 36, 4, 4, 17, 22, 59, 33, 21]</td>\n",
              "      <td>130854.75579</td>\n",
              "      <td>1.12361</td>\n",
              "      <td>3.63218</td>\n",
              "      <td>130850</td>\n",
              "    </tr>\n",
              "    <tr>\n",
              "      <th>2</th>\n",
              "      <td>[20, 42, 43, 49, 55, 34, 12, 26, 36, 24]</td>\n",
              "      <td>122405.31668</td>\n",
              "      <td>1.73269</td>\n",
              "      <td>3.58399</td>\n",
              "      <td>122400</td>\n",
              "    </tr>\n",
              "    <tr>\n",
              "      <th>3</th>\n",
              "      <td>[49, 40, 15, 22, 31, 31, 15, 27, 50, 17]</td>\n",
              "      <td>133655.35880</td>\n",
              "      <td>1.71005</td>\n",
              "      <td>3.64875</td>\n",
              "      <td>133650</td>\n",
              "    </tr>\n",
              "    <tr>\n",
              "      <th>4</th>\n",
              "      <td>[34, 22, 39, 31, 6, 40, 54, 50, 47, 25]</td>\n",
              "      <td>133605.38928</td>\n",
              "      <td>2.00331</td>\n",
              "      <td>3.38597</td>\n",
              "      <td>133600</td>\n",
              "    </tr>\n",
              "    <tr>\n",
              "      <th>...</th>\n",
              "      <td>...</td>\n",
              "      <td>...</td>\n",
              "      <td>...</td>\n",
              "      <td>...</td>\n",
              "      <td>...</td>\n",
              "    </tr>\n",
              "    <tr>\n",
              "      <th>95</th>\n",
              "      <td>[37, 58, 40, 16, 28, 19, 37, 36, 56, 29]</td>\n",
              "      <td>111055.25552</td>\n",
              "      <td>1.72616</td>\n",
              "      <td>3.52936</td>\n",
              "      <td>111050</td>\n",
              "    </tr>\n",
              "    <tr>\n",
              "      <th>96</th>\n",
              "      <td>[38, 10, 10, 5, 37, 58, 47, 56, 24, 41]</td>\n",
              "      <td>146555.29058</td>\n",
              "      <td>2.00510</td>\n",
              "      <td>3.28548</td>\n",
              "      <td>146550</td>\n",
              "    </tr>\n",
              "    <tr>\n",
              "      <th>97</th>\n",
              "      <td>[36, 26, 37, 16, 43, 51, 59, 25, 49, 37]</td>\n",
              "      <td>126005.52725</td>\n",
              "      <td>2.03276</td>\n",
              "      <td>3.49449</td>\n",
              "      <td>126000</td>\n",
              "    </tr>\n",
              "    <tr>\n",
              "      <th>98</th>\n",
              "      <td>[29, 6, 55, 40, 17, 38, 10, 43, 31, 39]</td>\n",
              "      <td>112654.65265</td>\n",
              "      <td>1.01594</td>\n",
              "      <td>3.63671</td>\n",
              "      <td>112650</td>\n",
              "    </tr>\n",
              "    <tr>\n",
              "      <th>99</th>\n",
              "      <td>[5, 33, 41, 29, 51, 14, 0, 17, 36, 4]</td>\n",
              "      <td>125104.96679</td>\n",
              "      <td>1.06289</td>\n",
              "      <td>3.90390</td>\n",
              "      <td>125100</td>\n",
              "    </tr>\n",
              "  </tbody>\n",
              "</table>\n",
              "<p>100 rows × 5 columns</p>\n",
              "</div>"
            ],
            "text/plain": [
              "                                   Poblacion  ...  Población Acumulada\n",
              "0     [35, 20, 28, 26, 5, 53, 9, 10, 34, 53]  ...               128650\n",
              "1     [30, 41, 36, 4, 4, 17, 22, 59, 33, 21]  ...               130850\n",
              "2   [20, 42, 43, 49, 55, 34, 12, 26, 36, 24]  ...               122400\n",
              "3   [49, 40, 15, 22, 31, 31, 15, 27, 50, 17]  ...               133650\n",
              "4    [34, 22, 39, 31, 6, 40, 54, 50, 47, 25]  ...               133600\n",
              "..                                       ...  ...                  ...\n",
              "95  [37, 58, 40, 16, 28, 19, 37, 36, 56, 29]  ...               111050\n",
              "96   [38, 10, 10, 5, 37, 58, 47, 56, 24, 41]  ...               146550\n",
              "97  [36, 26, 37, 16, 43, 51, 59, 25, 49, 37]  ...               126000\n",
              "98   [29, 6, 55, 40, 17, 38, 10, 43, 31, 39]  ...               112650\n",
              "99     [5, 33, 41, 29, 51, 14, 0, 17, 36, 4]  ...               125100\n",
              "\n",
              "[100 rows x 5 columns]"
            ]
          },
          "metadata": {
            "tags": []
          },
          "execution_count": 12
        }
      ]
    },
    {
      "cell_type": "markdown",
      "metadata": {
        "id": "q0j5JeQuAR4e",
        "colab_type": "text"
      },
      "source": [
        " ### Testing the selection operators"
      ]
    },
    {
      "cell_type": "code",
      "metadata": {
        "id": "LTAYgj22AR4f",
        "colab_type": "code",
        "outputId": "bd8fa765-41b5-4eab-8956-8e9d3ef6801b",
        "colab": {
          "base_uri": "https://localhost:8080/",
          "height": 0
        }
      },
      "source": [
        "size_torneo = 3\n",
        "\n",
        "winner1,winner2=select_parent_torneo(population,size_torneo)\n",
        "print(winner1.chromosome,winner1.fitness)\n",
        "print(winner2.chromosome,winner2.fitness)"
      ],
      "execution_count": 13,
      "outputs": [
        {
          "output_type": "stream",
          "text": [
            "[18, 6, 46, 5, 4, 16, 45, 15, 39, 51] 158253.8666\n",
            "[38, 10, 10, 5, 37, 58, 47, 56, 24, 41] 146555.29058\n"
          ],
          "name": "stdout"
        }
      ]
    },
    {
      "cell_type": "code",
      "metadata": {
        "id": "e75Eko6aAR4i",
        "colab_type": "code",
        "outputId": "eef5389f-fbf0-44d5-89f7-e51d727a7cf4",
        "colab": {
          "base_uri": "https://localhost:8080/",
          "height": 0
        }
      },
      "source": [
        "winner1,winner2=select_parents_roulette(population)\n",
        "print(winner1.chromosome,winner1.fitness)\n",
        "print(winner2.chromosome,winner2.fitness)"
      ],
      "execution_count": 14,
      "outputs": [
        {
          "output_type": "stream",
          "text": [
            "[3, 8, 34, 14, 25, 39, 53, 29, 3, 24] 129504.97225\n",
            "[41, 47, 27, 59, 37, 1, 37, 50, 25, 4] 132905.90885\n"
          ],
          "name": "stdout"
        }
      ]
    },
    {
      "cell_type": "markdown",
      "metadata": {
        "id": "OpJscAeRAR4k",
        "colab_type": "text"
      },
      "source": [
        "### Testing the crossover"
      ]
    },
    {
      "cell_type": "code",
      "metadata": {
        "id": "_pq1okitAR4k",
        "colab_type": "code",
        "colab": {}
      },
      "source": [
        "popsize = len(population)\n",
        "mating_pool = []\n",
        "for i in range(int(popsize/2)): mating_pool.append(select_parents_roulette(population)) "
      ],
      "execution_count": 0,
      "outputs": []
    },
    {
      "cell_type": "code",
      "metadata": {
        "id": "IpOzI1nMAR4m",
        "colab_type": "code",
        "colab": {}
      },
      "source": [
        "offspring_population = []\n",
        "for i in range(len(mating_pool)): \n",
        "    offspring_population.extend( mating_pool[i][0].crossover_onepoint(mating_pool[i][1]) )"
      ],
      "execution_count": 0,
      "outputs": []
    },
    {
      "cell_type": "code",
      "metadata": {
        "id": "FEZLl546AR4o",
        "colab_type": "code",
        "outputId": "7ec00cdd-3e66-4a41-e513-9c6603fd5601",
        "colab": {
          "base_uri": "https://localhost:8080/",
          "height": 0
        }
      },
      "source": [
        "display(offspring_population)"
      ],
      "execution_count": 17,
      "outputs": [
        {
          "output_type": "execute_result",
          "data": {
            "text/html": [
              "<div>\n",
              "<style scoped>\n",
              "    .dataframe tbody tr th:only-of-type {\n",
              "        vertical-align: middle;\n",
              "    }\n",
              "\n",
              "    .dataframe tbody tr th {\n",
              "        vertical-align: top;\n",
              "    }\n",
              "\n",
              "    .dataframe thead th {\n",
              "        text-align: right;\n",
              "    }\n",
              "</style>\n",
              "<table border=\"1\" class=\"dataframe\">\n",
              "  <thead>\n",
              "    <tr style=\"text-align: right;\">\n",
              "      <th></th>\n",
              "      <th>Poblacion</th>\n",
              "      <th>fitness acumulado</th>\n",
              "      <th>Distancias X</th>\n",
              "      <th>Distancias Y</th>\n",
              "      <th>Población Acumulada</th>\n",
              "    </tr>\n",
              "  </thead>\n",
              "  <tbody>\n",
              "    <tr>\n",
              "      <th>0</th>\n",
              "      <td>[5, 33, 41, 29, 51, 14, 0, 17, 15, 59]</td>\n",
              "      <td>-1.0</td>\n",
              "      <td>-1.0</td>\n",
              "      <td>-1.0</td>\n",
              "      <td>-1</td>\n",
              "    </tr>\n",
              "    <tr>\n",
              "      <th>1</th>\n",
              "      <td>[19, 17, 13, 24, 31, 4, 48, 53, 36, 4]</td>\n",
              "      <td>-1.0</td>\n",
              "      <td>-1.0</td>\n",
              "      <td>-1.0</td>\n",
              "      <td>-1</td>\n",
              "    </tr>\n",
              "    <tr>\n",
              "      <th>2</th>\n",
              "      <td>[40, 9, 56, 0, 23, 13, 43, 0, 47, 25]</td>\n",
              "      <td>-1.0</td>\n",
              "      <td>-1.0</td>\n",
              "      <td>-1.0</td>\n",
              "      <td>-1</td>\n",
              "    </tr>\n",
              "    <tr>\n",
              "      <th>3</th>\n",
              "      <td>[34, 22, 39, 31, 6, 40, 54, 50, 12, 0]</td>\n",
              "      <td>-1.0</td>\n",
              "      <td>-1.0</td>\n",
              "      <td>-1.0</td>\n",
              "      <td>-1</td>\n",
              "    </tr>\n",
              "    <tr>\n",
              "      <th>4</th>\n",
              "      <td>[19, 17, 13, 24, 31, 4, 48, 53, 15, 30]</td>\n",
              "      <td>-1.0</td>\n",
              "      <td>-1.0</td>\n",
              "      <td>-1.0</td>\n",
              "      <td>-1</td>\n",
              "    </tr>\n",
              "    <tr>\n",
              "      <th>...</th>\n",
              "      <td>...</td>\n",
              "      <td>...</td>\n",
              "      <td>...</td>\n",
              "      <td>...</td>\n",
              "      <td>...</td>\n",
              "    </tr>\n",
              "    <tr>\n",
              "      <th>95</th>\n",
              "      <td>[13, 41, 46, 5, 4, 16, 45, 15, 39, 51]</td>\n",
              "      <td>-1.0</td>\n",
              "      <td>-1.0</td>\n",
              "      <td>-1.0</td>\n",
              "      <td>-1</td>\n",
              "    </tr>\n",
              "    <tr>\n",
              "      <th>96</th>\n",
              "      <td>[3, 27, 51, 50, 30, 24, 37, 13, 45, 47]</td>\n",
              "      <td>-1.0</td>\n",
              "      <td>-1.0</td>\n",
              "      <td>-1.0</td>\n",
              "      <td>-1</td>\n",
              "    </tr>\n",
              "    <tr>\n",
              "      <th>97</th>\n",
              "      <td>[41, 39, 44, 1, 25, 47, 10, 31, 12, 6]</td>\n",
              "      <td>-1.0</td>\n",
              "      <td>-1.0</td>\n",
              "      <td>-1.0</td>\n",
              "      <td>-1</td>\n",
              "    </tr>\n",
              "    <tr>\n",
              "      <th>98</th>\n",
              "      <td>[1, 32, 4, 12, 45, 46, 28, 26, 58, 3]</td>\n",
              "      <td>-1.0</td>\n",
              "      <td>-1.0</td>\n",
              "      <td>-1.0</td>\n",
              "      <td>-1</td>\n",
              "    </tr>\n",
              "    <tr>\n",
              "      <th>99</th>\n",
              "      <td>[21, 1, 49, 24, 43, 58, 40, 35, 52, 59]</td>\n",
              "      <td>-1.0</td>\n",
              "      <td>-1.0</td>\n",
              "      <td>-1.0</td>\n",
              "      <td>-1</td>\n",
              "    </tr>\n",
              "  </tbody>\n",
              "</table>\n",
              "<p>100 rows × 5 columns</p>\n",
              "</div>"
            ],
            "text/plain": [
              "                                  Poblacion  ...  Población Acumulada\n",
              "0    [5, 33, 41, 29, 51, 14, 0, 17, 15, 59]  ...                   -1\n",
              "1    [19, 17, 13, 24, 31, 4, 48, 53, 36, 4]  ...                   -1\n",
              "2     [40, 9, 56, 0, 23, 13, 43, 0, 47, 25]  ...                   -1\n",
              "3    [34, 22, 39, 31, 6, 40, 54, 50, 12, 0]  ...                   -1\n",
              "4   [19, 17, 13, 24, 31, 4, 48, 53, 15, 30]  ...                   -1\n",
              "..                                      ...  ...                  ...\n",
              "95   [13, 41, 46, 5, 4, 16, 45, 15, 39, 51]  ...                   -1\n",
              "96  [3, 27, 51, 50, 30, 24, 37, 13, 45, 47]  ...                   -1\n",
              "97   [41, 39, 44, 1, 25, 47, 10, 31, 12, 6]  ...                   -1\n",
              "98    [1, 32, 4, 12, 45, 46, 28, 26, 58, 3]  ...                   -1\n",
              "99  [21, 1, 49, 24, 43, 58, 40, 35, 52, 59]  ...                   -1\n",
              "\n",
              "[100 rows x 5 columns]"
            ]
          },
          "metadata": {
            "tags": []
          },
          "execution_count": 17
        }
      ]
    },
    {
      "cell_type": "markdown",
      "metadata": {
        "id": "4p1zDtE64Ec5",
        "colab_type": "text"
      },
      "source": [
        "## Wrapping all together and get a solution for the problem"
      ]
    },
    {
      "cell_type": "code",
      "metadata": {
        "id": "FHuQYbx2C2n0",
        "colab_type": "code",
        "outputId": "34ec3f4e-ad94-4107-92d6-9d0ac6afb225",
        "colab": {
          "base_uri": "https://localhost:8080/",
          "height": 210
        }
      },
      "source": [
        "pmut=0.8\n",
        "\n",
        "print('Ejecución\\tIndividuo\\tIteración\\tFitness\\tSuma de distancias X\\tSuma de distancias Y\\tSuma de población')\n",
        "for ejecucion in range(0,10):\n",
        "  population_iter = []\n",
        "  population_best = []\n",
        "  best_fitness = 0\n",
        "  best_a = 0\n",
        "  random.seed()\n",
        "  population = init_population(num_individuals,ind_size, allele_pool)\n",
        "  for a in range(0,500):\n",
        "    offspring_population = []\n",
        "    for i in range(len(mating_pool)): \n",
        "      offspring_population.extend( mating_pool[i][0].crossover_onepoint(mating_pool[i][1]))\n",
        "    for i in range(len(offspring_population)):\n",
        "      if random.uniform(0, 1) < pmut: \n",
        "          offspring_population[i] = offspring_population[i].mutate_swap()\n",
        "    population_iter=evaluate_population(offspring_population,fitness_fn)\n",
        "\n",
        "  #Torneo\n",
        "  size_torneo = 3\n",
        "  winner1,winner2=select_parent_torneo(population_iter,size_torneo)\n",
        "  print(ejecucion + 1, winner1.chromosome, '-',winner1.fitness,winner1.fitness_sep[1],winner1.fitness_sep[2],winner1.fitness_sep[3], sep='\\t' )\n",
        "  "
      ],
      "execution_count": 18,
      "outputs": [
        {
          "output_type": "stream",
          "text": [
            "Ejecución\tIndividuo\tIteración\tFitness\tSuma de distancias X\tSuma de distancias Y\tSuma de población\n",
            "1\t[47, 32, 5, 24, 43, 58, 40, 35, 52, 59]\t-\t133555.31373\t2.056330000000006\t3.2574000000000893\t133550\n",
            "2\t[3, 5, 51, 50, 25, 47, 10, 31, 12, 6]\t-\t154654.00635\t1.8539800000000053\t2.152370000000033\t154650\n",
            "3\t[23, 6, 3, 20, 14, 13, 21, 4, 16, 22]\t-\t167001.37229\t0.6235199999999956\t0.7487699999999933\t167000\n",
            "4\t[18, 41, 25, 30, 56, 2, 4, 17, 44, 38]\t-\t130355.07831\t1.4119099999999971\t3.666399999999925\t130350\n",
            "5\t[18, 6, 46, 5, 56, 2, 15, 17, 44, 38]\t-\t154404.38325\t1.6088799999999974\t2.77437000000009\t154400\n",
            "6\t[28, 32, 58, 26, 5, 54, 19, 7, 15, 4]\t-\t143504.77196\t1.699149999999987\t3.0728100000000182\t143500\n",
            "7\t[53, 41, 57, 4, 13, 0, 3, 6, 14, 55]\t-\t164553.81762\t1.6592700000000136\t2.1583499999999702\t164550\n",
            "8\t[40, 9, 56, 0, 23, 13, 3, 50, 47, 25]\t-\t159003.89146\t1.8618400000000062\t2.029619999999966\t159000\n",
            "9\t[46, 19, 0, 6, 54, 26, 45, 7, 47, 9]\t-\t162053.07188\t1.9076499999999985\t1.1642300000001313\t162050\n",
            "10\t[23, 19, 4, 47, 26, 36, 16, 19, 47, 9]\t-\t153003.77504\t1.7062699999999893\t2.0687699999999154\t153000\n"
          ],
          "name": "stdout"
        }
      ]
    },
    {
      "cell_type": "markdown",
      "metadata": {
        "id": "Xj_q3CFigvr2",
        "colab_type": "text"
      },
      "source": [
        "### Best case scenario"
      ]
    },
    {
      "cell_type": "code",
      "metadata": {
        "id": "JaxaaWtI4G1n",
        "colab_type": "code",
        "outputId": "ade9c034-17c3-40c6-8fbd-2e2eaa60fc7b",
        "colab": {
          "base_uri": "https://localhost:8080/",
          "height": 210
        }
      },
      "source": [
        "print('Ejecución\\tIndividuo\\tIteración\\tFitness\\tSuma de distancias X\\tSuma de distancias Y\\tSuma de población')\n",
        "best = 0\n",
        "best_pop = 0\n",
        "for ejecucion in range(0,10):\n",
        "  population_iter = []\n",
        "  population_best = []\n",
        "  best_fitness = 0\n",
        "  best_a = 0\n",
        "  random.seed()\n",
        "  population = init_population(num_individuals,ind_size, allele_pool)\n",
        "  for a in range(0,500):\n",
        "    offspring_population = []\n",
        "    for i in range(len(mating_pool)): \n",
        "      offspring_population.extend( mating_pool[i][0].crossover_onepoint(mating_pool[i][1]))\n",
        "    for i in range(len(offspring_population)):\n",
        "      if random.uniform(0, 1) < pmut: \n",
        "          offspring_population[i] = offspring_population[i].mutate_swap()\n",
        "    population_iter=evaluate_population(offspring_population,fitness_fn)\n",
        "    max_fitness = max(map(lambda x: x.fitness, population_iter))\n",
        "    i = 0\n",
        "    for pop in population_iter:\n",
        "      if pop.fitness == max_fitness:\n",
        "        break\n",
        "      else:\n",
        "        i += 1\n",
        "    if population_iter[i].fitness > best_fitness:\n",
        "      best_fitness = population_iter[i].fitness\n",
        "      population_best = population_iter[i]\n",
        "      best_a = a\n",
        "  if population_best.fitness > best:\n",
        "    best = population_best.fitness\n",
        "    best_pop = population_best\n",
        "  population_best.chromosome.sort()\n",
        "  print(ejecucion + 1,population_best.chromosome,best_a+1,population_best.fitness,population_best.fitness_sep[1],population_best.fitness_sep[2],population_best.fitness_sep[3], sep='\\t' )\n"
      ],
      "execution_count": 19,
      "outputs": [
        {
          "output_type": "stream",
          "text": [
            "Ejecución\tIndividuo\tIteración\tFitness\tSuma de distancias X\tSuma de distancias Y\tSuma de población\n",
            "1\t[9, 10, 15, 19, 47, 48, 50, 56, 59, 59]\t146\t179252.92205\t1.8149999999999977\t1.1070500000000152\t179250\n",
            "2\t[5, 10, 15, 19, 47, 48, 50, 56, 59, 59]\t99\t179202.89784\t1.8092000000000041\t1.0886400000000407\t179200\n",
            "3\t[9, 10, 15, 19, 47, 48, 50, 56, 59, 59]\t162\t179252.92205\t1.8149999999999977\t1.1070500000000152\t179250\n",
            "4\t[8, 10, 15, 19, 47, 48, 50, 56, 59, 59]\t130\t179202.87903\t1.8161499999999986\t1.0628800000000211\t179200\n",
            "5\t[8, 10, 15, 19, 47, 48, 50, 56, 59, 59]\t7\t179202.87903\t1.8161499999999986\t1.0628800000000211\t179200\n",
            "6\t[6, 10, 15, 19, 47, 48, 50, 56, 59, 59]\t56\t179152.89354\t1.8125999999999998\t1.0809400000000835\t179150\n",
            "7\t[7, 10, 15, 19, 47, 48, 50, 56, 59, 59]\t425\t179252.90088\t1.8166499999999974\t1.0842300000000336\t179250\n",
            "8\t[4, 10, 15, 19, 47, 48, 50, 56, 59, 59]\t393\t178952.89339\t1.802999999999999\t1.0903899999999993\t178950\n",
            "9\t[9, 10, 15, 19, 47, 48, 50, 56, 59, 59]\t106\t179252.92205\t1.8149999999999977\t1.1070500000000152\t179250\n",
            "10\t[9, 10, 15, 19, 47, 48, 50, 56, 59, 59]\t351\t179252.92205\t1.8149999999999977\t1.1070500000000152\t179250\n"
          ],
          "name": "stdout"
        }
      ]
    },
    {
      "cell_type": "code",
      "metadata": {
        "id": "VkmCcNAlhEg-",
        "colab_type": "code",
        "colab": {
          "base_uri": "https://localhost:8080/",
          "height": 34
        },
        "outputId": "da5b3090-c660-49d7-8976-63f33dc0a2a9"
      },
      "source": [
        "best_pop.chromosome"
      ],
      "execution_count": 20,
      "outputs": [
        {
          "output_type": "execute_result",
          "data": {
            "text/plain": [
              "[9, 10, 15, 19, 47, 48, 50, 56, 59, 59]"
            ]
          },
          "metadata": {
            "tags": []
          },
          "execution_count": 20
        }
      ]
    },
    {
      "cell_type": "code",
      "metadata": {
        "id": "goxCU-ONjW3v",
        "colab_type": "code",
        "colab": {
          "base_uri": "https://localhost:8080/",
          "height": 265
        },
        "outputId": "e8a1f790-09bd-4b11-f990-14d77f86d336"
      },
      "source": [
        "x = []\n",
        "y = []\n",
        "\n",
        "for ind in best_pop.chromosome:\n",
        "  x.append(x_pool[ind])\n",
        "  y.append(y_pool[ind])\n",
        "\n",
        "plt.scatter(x, y)\n",
        "plt.show()"
      ],
      "execution_count": 67,
      "outputs": [
        {
          "output_type": "display_data",
          "data": {
            "image/png": "[encoded data removed]",
            "text/plain": [
              "<Figure size 432x288 with 1 Axes>"
            ]
          },
          "metadata": {
            "tags": []
          }
        }
      ]
    },
    {
      "cell_type": "code",
      "metadata": {
        "id": "wPU2pgbirhXS",
        "colab_type": "code",
        "colab": {}
      },
      "source": [
        "#!apt-get install libgeos-3.5.0\n",
        "#!apt-get install libgeos-dev\n",
        "#!pip install https://github.com/matplotlib/basemap/archive/master.zip\n",
        "#!pip install pyproj==1.9.6"
      ],
      "execution_count": 0,
      "outputs": []
    },
    {
      "cell_type": "code",
      "metadata": {
        "id": "cTCiyU4KkmVj",
        "colab_type": "code",
        "colab": {
          "base_uri": "https://localhost:8080/",
          "height": 252
        },
        "outputId": "0e80c820-aad4-4cb5-8e48-331ca35310a2"
      },
      "source": [
        "from mpl_toolkits.basemap import Basemap\n",
        "import matplotlib.pyplot as plt\n",
        "# setup Lambert Conformal basemap.\n",
        "map = Basemap(width=500000,height=500000,projection='aeqd',\n",
        "            resolution='c', lon_0 = -77.02824, lat_0 = -12.04318)\n",
        "\n",
        "map.drawmapboundary(fill_color='aqua')\n",
        "map.drawcoastlines()\n",
        "#map.fillcontinents(color='#ddaa66', lake_color='aqua')\n",
        "map.drawcountries()\n",
        "map.drawstates(color='0.5')\n",
        "\n",
        "x_p, y_p = map(y, x)\n",
        "\n",
        "map.scatter(x_p, y_p, marker='D',color='r')\n",
        "plt.show()"
      ],
      "execution_count": 108,
      "outputs": [
        {
          "output_type": "display_data",
          "data": {
            "image/png": "[encoded data removed]",
            "text/plain": [
              "<Figure size 432x288 with 1 Axes>"
            ]
          },
          "metadata": {
            "tags": []
          }
        }
      ]
    },
    {
      "cell_type": "code",
      "metadata": {
        "id": "E0gR6Jf3y95F",
        "colab_type": "code",
        "colab": {
          "base_uri": "https://localhost:8080/",
          "height": 252
        },
        "outputId": "bfd984e5-a514-42cd-f8f0-52f1c92a5732"
      },
      "source": [
        "map = Basemap(width=15000,height=15000,projection='aeqd',\n",
        "            resolution='c', lon_0 = -77.04824, lat_0 = -12.07818)\n",
        "\n",
        "map.drawmapboundary(fill_color='aqua')\n",
        "map.drawcoastlines()\n",
        "#map.fillcontinents(color='#ddaa66', lake_color='aqua')\n",
        "map.drawcountries()\n",
        "map.drawstates(color='0.5')\n",
        "\n",
        "x_p, y_p = map(y, x)\n",
        "\n",
        "map.scatter(x_p, y_p, marker='D',color='r')\n",
        "plt.show()"
      ],
      "execution_count": 122,
      "outputs": [
        {
          "output_type": "display_data",
          "data": {
            "image/png": "[encoded data removed]",
            "text/plain": [
              "<Figure size 432x288 with 1 Axes>"
            ]
          },
          "metadata": {
            "tags": []
          }
        }
      ]
    }
  ]
}