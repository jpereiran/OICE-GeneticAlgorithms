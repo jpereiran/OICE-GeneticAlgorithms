{
  "nbformat": 4,
  "nbformat_minor": 0,
  "metadata": {
    "kernelspec": {
      "name": "python3",
      "display_name": "Python 3"
    },
    "language_info": {
      "codemirror_mode": {
        "name": "ipython",
        "version": 3
      },
      "file_extension": ".py",
      "mimetype": "text/x-python",
      "name": "python",
      "nbconvert_exporter": "python",
      "pygments_lexer": "ipython3",
      "version": "3.7.3"
    },
    "toc": {
      "base_numbering": 1,
      "nav_menu": {},
      "number_sections": true,
      "sideBar": true,
      "skip_h1_title": false,
      "title_cell": "Table of Contents",
      "title_sidebar": "Contents",
      "toc_cell": false,
      "toc_position": {},
      "toc_section_display": true,
      "toc_window_display": false
    },
    "colab": {
      "name": "mono-objetivo.ipynb",
      "provenance": [],
      "collapsed_sections": []
    },
    "accelerator": "GPU"
  },
  "cells": [
    {
      "cell_type": "code",
      "metadata": {
        "id": "86MJFawtAR3z",
        "colab_type": "code",
        "colab": {}
      },
      "source": [
        "import sys\n",
        "import time\n",
        "import random\n",
        "import numpy as np\n",
        "from copy import deepcopy\n",
        "import pandas as pd\n",
        "import matplotlib.pyplot as plt\n",
        "import heapq\n",
        "from itertools import combinations "
      ],
      "execution_count": 0,
      "outputs": []
    },
    {
      "cell_type": "markdown",
      "metadata": {
        "id": "KjHZ7xDvAR35",
        "colab_type": "text"
      },
      "source": [
        "## Clase individuo"
      ]
    },
    {
      "cell_type": "code",
      "metadata": {
        "id": "wu-JJX4gAR36",
        "colab_type": "code",
        "colab": {}
      },
      "source": [
        "class Individual(object):   \n",
        "   \n",
        "    def __init__(self, chromosome, size):\n",
        "            self.chromosome = chromosome[:]\n",
        "            self.allele_pool = allele_pool\n",
        "            self.fitness = -1  # -1 indica que el individuo no ha sido evaluado\n",
        "            self.fitness_sep = [-1,-1,-1,-1]\n",
        "            \n",
        "    def crossover_onepoint(self, other):\n",
        "        \"Retorna dos nuevos individuos del cruzamiento de un punto entre individuos self y other \"\n",
        "        c = random.randrange(len(self.chromosome))\n",
        "        ind1 = Individual(self.chromosome[:c] + other.chromosome[c:], allele_pool)\n",
        "        ind2 = Individual(other.chromosome[:c] + self.chromosome[c:], allele_pool)\n",
        "        return [ind1, ind2]   \n",
        "    \n",
        "    \n",
        "    def crossover_uniform(self, other):\n",
        "        chromosome1 = []\n",
        "        chromosome2 = []\n",
        "        \"Retorna dos nuevos individuos del cruzamiento uniforme entre self y other \"\n",
        "        for i in range(len(self.chromosome)):\n",
        "            if random.uniform(0, 1) < 0.5:\n",
        "                chromosome1.append(self.chromosome[i])\n",
        "                chromosome2.append(other.chromosome[i])\n",
        "            else:\n",
        "                chromosome1.append(other.chromosome[i])\n",
        "                chromosome2.append(self.chromosome[i])\n",
        "        ind1 = Individual(chromosome1, allele_pool)\n",
        "        ind2 = Individual(chromosome2, allele_pool)\n",
        "        return [ind1, ind2] \n",
        "\n",
        "    def mutate_position(self): \n",
        "        \"\"\"       Bit flip\n",
        "        Cambia aleatoriamente un alelo de un gen.\"\"\"\n",
        "        mutated_chromosome = deepcopy(self.chromosome)\n",
        "        mutGene = random.randrange(0,len(mutated_chromosome)) \n",
        "        newAllele = allele_pool[random.randrange(0,len(allele_pool))]\n",
        "        mutated_chromosome[mutGene] = newAllele\n",
        "        return Individual(mutated_chromosome, allele_pool)\n",
        "        \n",
        "    def mutate_swap(self):\n",
        "        \"Escoge dos genes e intercambia sus alelos\"\n",
        "        mutated_chromosome = deepcopy(self.chromosome)\n",
        "        mutGen1 = random.randrange(0,len(mutated_chromosome))\n",
        "        mutGen2 = random.randrange(0,len(mutated_chromosome))\n",
        "        temp = mutated_chromosome[mutGen1]\n",
        "        mutated_chromosome[mutGen1] = mutated_chromosome[mutGen2]\n",
        "        mutated_chromosome[mutGen2] = temp\n",
        "        return Individual(mutated_chromosome, allele_pool)\n",
        "                   "
      ],
      "execution_count": 0,
      "outputs": []
    },
    {
      "cell_type": "markdown",
      "metadata": {
        "id": "uWSVtniAAR3-",
        "colab_type": "text"
      },
      "source": [
        "## Inicia una poblacion tipo Binario"
      ]
    },
    {
      "cell_type": "code",
      "metadata": {
        "id": "u-wn0cyiAR3_",
        "colab_type": "code",
        "colab": {}
      },
      "source": [
        "def init_population(pop_number, chromosome_size, allele_pool):    \n",
        "    num_alleles = len(allele_pool)\n",
        "    population = []\n",
        "    for i in range(pop_number):\n",
        "        new_chromosome = [allele_pool[random.randrange(0, num_alleles)] for j in range(chromosome_size)]\n",
        "        population.append(Individual(new_chromosome, allele_pool) )\n",
        "    return population"
      ],
      "execution_count": 0,
      "outputs": []
    },
    {
      "cell_type": "markdown",
      "metadata": {
        "id": "SYPAPyGHAR4B",
        "colab_type": "text"
      },
      "source": [
        " Convierte un Nro binario a un número natural:  \n",
        " El Nro binario es una lista de 0's y 1's "
      ]
    },
    {
      "cell_type": "code",
      "metadata": {
        "id": "PG6D8oFnAR4C",
        "colab_type": "code",
        "colab": {}
      },
      "source": [
        "def binario_a_decimal(x):\n",
        "    return int(str(''.join(map(str,x))))#, 2"
      ],
      "execution_count": 0,
      "outputs": []
    },
    {
      "cell_type": "markdown",
      "metadata": {
        "id": "g3CSuIdtAR4F",
        "colab_type": "text"
      },
      "source": [
        "Funcion de aptitud para evaluar el fitness de un Cromosoma (x^2)"
      ]
    },
    {
      "cell_type": "code",
      "metadata": {
        "id": "3pQ2su1-AR4G",
        "colab_type": "code",
        "colab": {}
      },
      "source": [
        "def fun_fitness_cuad(cromosoma):\n",
        "    \"\"\"Función que eleva al cuadrado el número recibido en binario\"\"\"\n",
        "    n = 0\n",
        "    for c in cromosoma:\n",
        "      n +=  pob_pool[c]\n",
        "\n",
        "    comb = combinations(cromosoma, 2) \n",
        "    dist_x = 0\n",
        "    dist_y = 0\n",
        "    for com in comb:\n",
        "      dist_x += abs(x_pool[com[0]] - x_pool[com[1]])\n",
        "      dist_y += abs(y_pool[com[0]] - y_pool[com[1]])\n",
        "    \n",
        "    total = dist_x + dist_y + n\n",
        "\n",
        "    return total"
      ],
      "execution_count": 0,
      "outputs": []
    },
    {
      "cell_type": "code",
      "metadata": {
        "id": "NDmlZ1RI0eIh",
        "colab_type": "code",
        "colab": {}
      },
      "source": [
        "def fun_fitness_cuad_sep(cromosoma):\n",
        "    \"\"\"Función que eleva al cuadrado el número recibido en binario\"\"\"\n",
        "    n = 0\n",
        "    for c in cromosoma:\n",
        "      n +=  pob_pool[c]\n",
        "\n",
        "    comb = combinations(cromosoma, 2) \n",
        "    dist_x = 0\n",
        "    dist_y = 0\n",
        "    for com in comb:\n",
        "      dist_x += abs(x_pool[com[0]] - x_pool[com[1]])\n",
        "      dist_y += abs(y_pool[com[0]] - y_pool[com[1]])\n",
        "    \n",
        "    total = dist_x + dist_y + n\n",
        "\n",
        "    return [total,dist_x, dist_y,n]"
      ],
      "execution_count": 0,
      "outputs": []
    },
    {
      "cell_type": "markdown",
      "metadata": {
        "id": "mM-Ufa3hAR4J",
        "colab_type": "text"
      },
      "source": [
        "Funcion para evaluar toda una población de individuos con la funcion de fitnes especificada"
      ]
    },
    {
      "cell_type": "code",
      "metadata": {
        "id": "I06jVtM1AR4K",
        "colab_type": "code",
        "colab": {}
      },
      "source": [
        "def evaluate_population(population,fitness_fn): \n",
        "    \"\"\"Retorna el fitness de un cromosoma como el cuadrado del numero recibido en binario\"\"\"\n",
        "   \n",
        "    for i in range(len(population)):\n",
        "        if population[i].fitness == -1:    # evalua solo si el individuo no esta evaluado\n",
        "            population[i].fitness = fitness_fn(population[i].chromosome)\n",
        "            population[i].fitness_sep = fun_fitness_cuad_sep(population[i].chromosome)\n",
        "    return population"
      ],
      "execution_count": 0,
      "outputs": []
    },
    {
      "cell_type": "code",
      "metadata": {
        "id": "dWavI0SPAR4N",
        "colab_type": "code",
        "colab": {}
      },
      "source": [
        "def display(population):\n",
        "    listaAG=[]\n",
        "    for i in range(len(population)):\n",
        "      listaAG.append([population[i].chromosome,population[i].fitness,population[i].fitness_sep[1],population[i].fitness_sep[2],population[i].fitness_sep[3]])\n",
        "\n",
        "    data=pd.DataFrame(listaAG)\n",
        "    data.columns = ['Poblacion','fitness acumulado', 'Distancias X', 'Distancias Y', 'Población Acumulada']\n",
        "    return data"
      ],
      "execution_count": 0,
      "outputs": []
    },
    {
      "cell_type": "markdown",
      "metadata": {
        "id": "0jHBIE2yAR4P",
        "colab_type": "text"
      },
      "source": [
        "## Selecciona los padres mediante operadores: Ruleta/ Torneo"
      ]
    },
    {
      "cell_type": "markdown",
      "metadata": {
        "id": "2_uAcT_tAR4Q",
        "colab_type": "text"
      },
      "source": [
        "###  Ruleta"
      ]
    },
    {
      "cell_type": "code",
      "metadata": {
        "id": "fWEAuk7bAR4Q",
        "colab_type": "code",
        "colab": {}
      },
      "source": [
        "def select_parents_roulette(population):\n",
        "    popsize = len(population)\n",
        "    \n",
        "    # Escoje el primer padre\n",
        "    sumfitness = sum([indiv.fitness for indiv in population])  # suma total del fitness de la poblacion\n",
        "    pickfitness = random.uniform(0, sumfitness)   # escoge un numero aleatorio entre 0 y sumfitness\n",
        "    cumfitness = 0     # fitness acumulado\n",
        "    for i in range(popsize):\n",
        "        cumfitness += population[i].fitness\n",
        "        if cumfitness > pickfitness: \n",
        "            iParent1 = i\n",
        "            break\n",
        "     \n",
        "    # Escoje el segundo padre, desconsiderando el primer padre\n",
        "    sumfitness = sumfitness - population[iParent1].fitness # retira el fitness del padre ya escogido\n",
        "    pickfitness = random.uniform(0, sumfitness)   # escoge un numero aleatorio entre 0 y sumfitness\n",
        "    cumfitness = 0     # fitness acumulado\n",
        "    for i in range(popsize):\n",
        "        if i == iParent1: continue   # si es el primer padre \n",
        "        cumfitness += population[i].fitness\n",
        "        if cumfitness > pickfitness: \n",
        "            iParent2 = i\n",
        "            break        \n",
        "    return (population[iParent1], population[iParent2])"
      ],
      "execution_count": 0,
      "outputs": []
    },
    {
      "cell_type": "markdown",
      "metadata": {
        "id": "6nwhZjEtAR4T",
        "colab_type": "text"
      },
      "source": [
        "### Torneo"
      ]
    },
    {
      "cell_type": "code",
      "metadata": {
        "id": "DyNH7kHjAR4U",
        "colab_type": "code",
        "colab": {}
      },
      "source": [
        "def select_parent_torneo(population,size_torneo):\n",
        "    \n",
        "    # Escoje el primer padre\n",
        "    list_indiv=[]\n",
        "    x1 = np.random.permutation(len(population) )\n",
        "    y1= x1[0:size_torneo]\n",
        "    for i in range(size_torneo):\n",
        "        list_indiv.append(population[y1[i]].fitness)\n",
        "    \n",
        "    iParent1=np.argmax(list_indiv)\n",
        "    \n",
        "    # Escoje el segundo padre, desconsiderando el primer padre   \n",
        "    x2 = np.delete(x1, iParent1)\n",
        "    x2 = np.random.permutation(x2)\n",
        "    list_indiv=[]\n",
        "    y2= x2[0:size_torneo]\n",
        "    for i in range(size_torneo):\n",
        "        list_indiv.append(population[y2[i]].fitness)\n",
        "    iParent2=np.argmax(list_indiv)\n",
        "    \n",
        "    return (population[x1[iParent1]],population[x2[iParent2]])"
      ],
      "execution_count": 0,
      "outputs": []
    },
    {
      "cell_type": "markdown",
      "metadata": {
        "id": "KtHRolmmAR4W",
        "colab_type": "text"
      },
      "source": [
        "## Iniciando una poblacion"
      ]
    },
    {
      "cell_type": "markdown",
      "metadata": {
        "id": "YhxnZIu3tuJf",
        "colab_type": "text"
      },
      "source": [
        "### Variables"
      ]
    },
    {
      "cell_type": "code",
      "metadata": {
        "id": "WBWzGVeTtryy",
        "colab_type": "code",
        "colab": {}
      },
      "source": [
        "x_pool = [-12.04861,-12.05956,-12.06524,-12.05998,-12.05541,-12.05417,-12.05349,-12.05268,-12.05278,-12.05301,-12.04937,-12.05465,-12.05486,-12.05059,-12.04253,-12.04817,-12.04668,-12.05606,-12.07258,-12.07414,-12.06771,-12.06921,-12.07396,-12.075,-12.09086,-12.09375,-12.09602,-12.02669,-12.0282,-12.03267,-12.03828,-12.03982,-12.04117,-12.0417,-12.04155,-12.03882,-12.03959,-12.03548,-12.03766,-12.03984,-12.04233,-12.04328,-12.04486,-12.04566,-12.03895,-12.12916,-12.13156,-12.13222,-12.1265,-12.1261,-12.12603,-12.12587,-12.12248,-12.12326,-12.12028,-12.1201,-12.12532,-12.12116,-12.12159,-12.11685]\n",
        "y_pool = [-77.06496,-77.07583,-77.07334,-77.063,-77.07497,-77.07472,-77.07362,-77.07409,-77.07104,-77.07735,-77.07948,-77.06952,-77.07655,-77.07666,-77.09595,-77.05867,-77.0726,-77.06726,-77.06884,-77.0629,-77.06214,-77.0593,-77.051,-77.04631,-77.05947,-77.06947,-77.07398,-76.88958,-76.8912,-76.91418,-76.9157,-76.91897,-76.9186,-76.9221,-76.9213,-76.9238,-76.92422,-76.92502,-76.92863,-76.92827,-76.92739,-76.92851,-76.92715,-76.91841,-76.92025,-77.02984,-77.02371,-77.02358,-77.02697,-77.02889,-77.03129,-77.03583,-77.03332,-77.03639,-77.03866,-77.0343,-77.03135,-77.02889,-77.03092,-77.02991]\n",
        "pob_pool = [16500,18000,17000,15000,17100,17350,17300,17400,17350,17400,16900,17200,17300,17500,18500,17100,16400,15950,16800,16950,14500,16400,17300,17000,14900,13900,11500,2900,2500,2000,3800,8500,7500,6000,6000,8600,8500,9200,9900,9900,9200,8700,7900,4000,8600,16000,15800,15600,18400,18800,18300,14500,17900,16950,17600,19000,18600,18000,18500,20000]"
      ],
      "execution_count": 0,
      "outputs": []
    },
    {
      "cell_type": "markdown",
      "metadata": {
        "id": "csG2F8COt2Nk",
        "colab_type": "text"
      },
      "source": [
        "### Codigo"
      ]
    },
    {
      "cell_type": "code",
      "metadata": {
        "id": "6DMgpHabA1-M",
        "colab_type": "code",
        "outputId": "912e26e6-4234-4c10-dbf2-01b0700274d1",
        "colab": {
          "base_uri": "https://localhost:8080/",
          "height": 402
        }
      },
      "source": [
        "num_individuals = 100\n",
        "ind_size        = 10\n",
        "\n",
        "\n",
        "allele_pool = [0,1,2,3,4,5,6,7,8,9,10,11,12,13,14,15,16,17,18,19,20,21,22,23,24,25,26,27,28,29,30,31,32,33,34,35,36,37,38,39,40,41,42,43,44,45,46,47,48,49,50,51,52,53,54,55,56,57,58,59]\n",
        "\n",
        "population = init_population(num_individuals,ind_size, allele_pool)\n",
        "\n",
        "display(population) #Imprime la primera poblacion \n"
      ],
      "execution_count": 0,
      "outputs": [
        {
          "output_type": "execute_result",
          "data": {
            "text/html": [
              "<div>\n",
              "<style scoped>\n",
              "    .dataframe tbody tr th:only-of-type {\n",
              "        vertical-align: middle;\n",
              "    }\n",
              "\n",
              "    .dataframe tbody tr th {\n",
              "        vertical-align: top;\n",
              "    }\n",
              "\n",
              "    .dataframe thead th {\n",
              "        text-align: right;\n",
              "    }\n",
              "</style>\n",
              "<table border=\"1\" class=\"dataframe\">\n",
              "  <thead>\n",
              "    <tr style=\"text-align: right;\">\n",
              "      <th></th>\n",
              "      <th>Poblacion</th>\n",
              "      <th>fitness acumulado</th>\n",
              "      <th>Distancias X</th>\n",
              "      <th>Distancias Y</th>\n",
              "      <th>Población Acumulada</th>\n",
              "    </tr>\n",
              "  </thead>\n",
              "  <tbody>\n",
              "    <tr>\n",
              "      <th>0</th>\n",
              "      <td>[31, 37, 56, 46, 2, 54, 13, 3, 30, 52]</td>\n",
              "      <td>-1</td>\n",
              "      <td>-1</td>\n",
              "      <td>-1</td>\n",
              "      <td>-1</td>\n",
              "    </tr>\n",
              "    <tr>\n",
              "      <th>1</th>\n",
              "      <td>[45, 25, 6, 58, 4, 7, 46, 49, 38, 58]</td>\n",
              "      <td>-1</td>\n",
              "      <td>-1</td>\n",
              "      <td>-1</td>\n",
              "      <td>-1</td>\n",
              "    </tr>\n",
              "    <tr>\n",
              "      <th>2</th>\n",
              "      <td>[29, 18, 7, 3, 12, 58, 3, 20, 26, 29]</td>\n",
              "      <td>-1</td>\n",
              "      <td>-1</td>\n",
              "      <td>-1</td>\n",
              "      <td>-1</td>\n",
              "    </tr>\n",
              "    <tr>\n",
              "      <th>3</th>\n",
              "      <td>[46, 39, 52, 25, 14, 25, 15, 54, 51, 20]</td>\n",
              "      <td>-1</td>\n",
              "      <td>-1</td>\n",
              "      <td>-1</td>\n",
              "      <td>-1</td>\n",
              "    </tr>\n",
              "    <tr>\n",
              "      <th>4</th>\n",
              "      <td>[1, 17, 14, 10, 22, 14, 15, 52, 43, 9]</td>\n",
              "      <td>-1</td>\n",
              "      <td>-1</td>\n",
              "      <td>-1</td>\n",
              "      <td>-1</td>\n",
              "    </tr>\n",
              "    <tr>\n",
              "      <th>...</th>\n",
              "      <td>...</td>\n",
              "      <td>...</td>\n",
              "      <td>...</td>\n",
              "      <td>...</td>\n",
              "      <td>...</td>\n",
              "    </tr>\n",
              "    <tr>\n",
              "      <th>95</th>\n",
              "      <td>[0, 47, 53, 55, 33, 40, 41, 7, 20, 35]</td>\n",
              "      <td>-1</td>\n",
              "      <td>-1</td>\n",
              "      <td>-1</td>\n",
              "      <td>-1</td>\n",
              "    </tr>\n",
              "    <tr>\n",
              "      <th>96</th>\n",
              "      <td>[29, 46, 3, 56, 44, 39, 22, 29, 43, 50]</td>\n",
              "      <td>-1</td>\n",
              "      <td>-1</td>\n",
              "      <td>-1</td>\n",
              "      <td>-1</td>\n",
              "    </tr>\n",
              "    <tr>\n",
              "      <th>97</th>\n",
              "      <td>[32, 18, 21, 16, 20, 10, 6, 12, 23, 24]</td>\n",
              "      <td>-1</td>\n",
              "      <td>-1</td>\n",
              "      <td>-1</td>\n",
              "      <td>-1</td>\n",
              "    </tr>\n",
              "    <tr>\n",
              "      <th>98</th>\n",
              "      <td>[9, 3, 46, 20, 34, 40, 10, 32, 33, 58]</td>\n",
              "      <td>-1</td>\n",
              "      <td>-1</td>\n",
              "      <td>-1</td>\n",
              "      <td>-1</td>\n",
              "    </tr>\n",
              "    <tr>\n",
              "      <th>99</th>\n",
              "      <td>[49, 35, 21, 43, 54, 37, 0, 11, 27, 10]</td>\n",
              "      <td>-1</td>\n",
              "      <td>-1</td>\n",
              "      <td>-1</td>\n",
              "      <td>-1</td>\n",
              "    </tr>\n",
              "  </tbody>\n",
              "</table>\n",
              "<p>100 rows × 5 columns</p>\n",
              "</div>"
            ],
            "text/plain": [
              "                                   Poblacion  ...  Población Acumulada\n",
              "0     [31, 37, 56, 46, 2, 54, 13, 3, 30, 52]  ...                   -1\n",
              "1      [45, 25, 6, 58, 4, 7, 46, 49, 38, 58]  ...                   -1\n",
              "2      [29, 18, 7, 3, 12, 58, 3, 20, 26, 29]  ...                   -1\n",
              "3   [46, 39, 52, 25, 14, 25, 15, 54, 51, 20]  ...                   -1\n",
              "4     [1, 17, 14, 10, 22, 14, 15, 52, 43, 9]  ...                   -1\n",
              "..                                       ...  ...                  ...\n",
              "95    [0, 47, 53, 55, 33, 40, 41, 7, 20, 35]  ...                   -1\n",
              "96   [29, 46, 3, 56, 44, 39, 22, 29, 43, 50]  ...                   -1\n",
              "97   [32, 18, 21, 16, 20, 10, 6, 12, 23, 24]  ...                   -1\n",
              "98    [9, 3, 46, 20, 34, 40, 10, 32, 33, 58]  ...                   -1\n",
              "99   [49, 35, 21, 43, 54, 37, 0, 11, 27, 10]  ...                   -1\n",
              "\n",
              "[100 rows x 5 columns]"
            ]
          },
          "metadata": {
            "tags": []
          },
          "execution_count": 12
        }
      ]
    },
    {
      "cell_type": "markdown",
      "metadata": {
        "id": "4mh7J8tQAR4b",
        "colab_type": "text"
      },
      "source": [
        "## Evaluacion de la primera poblacion"
      ]
    },
    {
      "cell_type": "code",
      "metadata": {
        "id": "xp8omPJ_AR4b",
        "colab_type": "code",
        "outputId": "5b99fbf4-cdd1-4235-c85a-1ecb4bf94e51",
        "colab": {
          "base_uri": "https://localhost:8080/",
          "height": 402
        }
      },
      "source": [
        "fitness_fn=fun_fitness_cuad\n",
        "## Evalua una poblacion\n",
        "population=evaluate_population(population,fitness_fn)  # evalua la poblacion inicial\n",
        "display(population)"
      ],
      "execution_count": 0,
      "outputs": [
        {
          "output_type": "execute_result",
          "data": {
            "text/html": [
              "<div>\n",
              "<style scoped>\n",
              "    .dataframe tbody tr th:only-of-type {\n",
              "        vertical-align: middle;\n",
              "    }\n",
              "\n",
              "    .dataframe tbody tr th {\n",
              "        vertical-align: top;\n",
              "    }\n",
              "\n",
              "    .dataframe thead th {\n",
              "        text-align: right;\n",
              "    }\n",
              "</style>\n",
              "<table border=\"1\" class=\"dataframe\">\n",
              "  <thead>\n",
              "    <tr style=\"text-align: right;\">\n",
              "      <th></th>\n",
              "      <th>Poblacion</th>\n",
              "      <th>fitness acumulado</th>\n",
              "      <th>Distancias X</th>\n",
              "      <th>Distancias Y</th>\n",
              "      <th>Población Acumulada</th>\n",
              "    </tr>\n",
              "  </thead>\n",
              "  <tbody>\n",
              "    <tr>\n",
              "      <th>0</th>\n",
              "      <td>[31, 37, 56, 46, 2, 54, 13, 3, 30, 52]</td>\n",
              "      <td>140905.36758</td>\n",
              "      <td>2.10163</td>\n",
              "      <td>3.26595</td>\n",
              "      <td>140900</td>\n",
              "    </tr>\n",
              "    <tr>\n",
              "      <th>1</th>\n",
              "      <td>[45, 25, 6, 58, 4, 7, 46, 49, 38, 58]</td>\n",
              "      <td>163203.98215</td>\n",
              "      <td>1.96989</td>\n",
              "      <td>2.01226</td>\n",
              "      <td>163200</td>\n",
              "    </tr>\n",
              "    <tr>\n",
              "      <th>2</th>\n",
              "      <td>[29, 18, 7, 3, 12, 58, 3, 20, 26, 29]</td>\n",
              "      <td>130004.19788</td>\n",
              "      <td>1.38178</td>\n",
              "      <td>2.81610</td>\n",
              "      <td>130000</td>\n",
              "    </tr>\n",
              "    <tr>\n",
              "      <th>3</th>\n",
              "      <td>[46, 39, 52, 25, 14, 25, 15, 54, 51, 20]</td>\n",
              "      <td>153604.04725</td>\n",
              "      <td>1.93812</td>\n",
              "      <td>2.10913</td>\n",
              "      <td>153600</td>\n",
              "    </tr>\n",
              "    <tr>\n",
              "      <th>4</th>\n",
              "      <td>[1, 17, 14, 10, 22, 14, 15, 52, 43, 9]</td>\n",
              "      <td>161553.27965</td>\n",
              "      <td>1.03637</td>\n",
              "      <td>2.24328</td>\n",
              "      <td>161550</td>\n",
              "    </tr>\n",
              "    <tr>\n",
              "      <th>...</th>\n",
              "      <td>...</td>\n",
              "      <td>...</td>\n",
              "      <td>...</td>\n",
              "      <td>...</td>\n",
              "      <td>...</td>\n",
              "    </tr>\n",
              "    <tr>\n",
              "      <th>95</th>\n",
              "      <td>[0, 47, 53, 55, 33, 40, 41, 7, 20, 35]</td>\n",
              "      <td>132455.24187</td>\n",
              "      <td>1.87773</td>\n",
              "      <td>3.36414</td>\n",
              "      <td>132450</td>\n",
              "    </tr>\n",
              "    <tr>\n",
              "      <th>96</th>\n",
              "      <td>[29, 46, 3, 56, 44, 39, 22, 29, 43, 50]</td>\n",
              "      <td>111505.38244</td>\n",
              "      <td>2.09206</td>\n",
              "      <td>3.29038</td>\n",
              "      <td>111500</td>\n",
              "    </tr>\n",
              "    <tr>\n",
              "      <th>97</th>\n",
              "      <td>[32, 18, 21, 16, 20, 10, 6, 12, 23, 24]</td>\n",
              "      <td>155002.59880</td>\n",
              "      <td>0.82151</td>\n",
              "      <td>1.77729</td>\n",
              "      <td>155000</td>\n",
              "    </tr>\n",
              "    <tr>\n",
              "      <th>98</th>\n",
              "      <td>[9, 3, 46, 20, 34, 40, 10, 32, 33, 58]</td>\n",
              "      <td>126805.21666</td>\n",
              "      <td>1.56043</td>\n",
              "      <td>3.65623</td>\n",
              "      <td>126800</td>\n",
              "    </tr>\n",
              "    <tr>\n",
              "      <th>99</th>\n",
              "      <td>[49, 35, 21, 43, 54, 37, 0, 11, 27, 10]</td>\n",
              "      <td>128105.55325</td>\n",
              "      <td>1.66797</td>\n",
              "      <td>3.88528</td>\n",
              "      <td>128100</td>\n",
              "    </tr>\n",
              "  </tbody>\n",
              "</table>\n",
              "<p>100 rows × 5 columns</p>\n",
              "</div>"
            ],
            "text/plain": [
              "                                   Poblacion  ...  Población Acumulada\n",
              "0     [31, 37, 56, 46, 2, 54, 13, 3, 30, 52]  ...               140900\n",
              "1      [45, 25, 6, 58, 4, 7, 46, 49, 38, 58]  ...               163200\n",
              "2      [29, 18, 7, 3, 12, 58, 3, 20, 26, 29]  ...               130000\n",
              "3   [46, 39, 52, 25, 14, 25, 15, 54, 51, 20]  ...               153600\n",
              "4     [1, 17, 14, 10, 22, 14, 15, 52, 43, 9]  ...               161550\n",
              "..                                       ...  ...                  ...\n",
              "95    [0, 47, 53, 55, 33, 40, 41, 7, 20, 35]  ...               132450\n",
              "96   [29, 46, 3, 56, 44, 39, 22, 29, 43, 50]  ...               111500\n",
              "97   [32, 18, 21, 16, 20, 10, 6, 12, 23, 24]  ...               155000\n",
              "98    [9, 3, 46, 20, 34, 40, 10, 32, 33, 58]  ...               126800\n",
              "99   [49, 35, 21, 43, 54, 37, 0, 11, 27, 10]  ...               128100\n",
              "\n",
              "[100 rows x 5 columns]"
            ]
          },
          "metadata": {
            "tags": []
          },
          "execution_count": 13
        }
      ]
    },
    {
      "cell_type": "markdown",
      "metadata": {
        "id": "q0j5JeQuAR4e",
        "colab_type": "text"
      },
      "source": [
        " ## Probando los Operadores"
      ]
    },
    {
      "cell_type": "markdown",
      "metadata": {
        "id": "xJPHX7p6AR4e",
        "colab_type": "text"
      },
      "source": [
        "- Llamando a torneo"
      ]
    },
    {
      "cell_type": "code",
      "metadata": {
        "id": "LTAYgj22AR4f",
        "colab_type": "code",
        "outputId": "1e08a0f7-20de-4142-e1d6-839c8ab86d38",
        "colab": {
          "base_uri": "https://localhost:8080/",
          "height": 52
        }
      },
      "source": [
        "size_torneo = 3\n",
        "\n",
        "winner1,winner2=select_parent_torneo(population,size_torneo)\n",
        "print(winner1.chromosome,winner1.fitness)\n",
        "print(winner2.chromosome,winner2.fitness)\n"
      ],
      "execution_count": 0,
      "outputs": [
        {
          "output_type": "stream",
          "text": [
            "[46, 39, 52, 25, 14, 25, 15, 54, 51, 20] 153604.04725\n",
            "[59, 52, 0, 22, 43, 25, 57, 26, 58, 14] 156103.97584\n"
          ],
          "name": "stdout"
        }
      ]
    },
    {
      "cell_type": "markdown",
      "metadata": {
        "id": "5xqFN-yQAR4h",
        "colab_type": "text"
      },
      "source": [
        "- Llamando a ruleta"
      ]
    },
    {
      "cell_type": "code",
      "metadata": {
        "id": "e75Eko6aAR4i",
        "colab_type": "code",
        "outputId": "40d5ee38-8f4f-4e5d-f69e-39207cfa8e2a",
        "colab": {
          "base_uri": "https://localhost:8080/",
          "height": 52
        }
      },
      "source": [
        "winner1,winner2=select_parents_roulette(population)\n",
        "print(winner1.chromosome,winner1.fitness)\n",
        "print(winner2.chromosome,winner2.fitness)"
      ],
      "execution_count": 0,
      "outputs": [
        {
          "output_type": "stream",
          "text": [
            "[1, 14, 55, 36, 21, 24, 34, 46, 52, 52] 152904.8881\n",
            "[0, 40, 22, 8, 54, 25, 11, 11, 41, 34] 140954.39591\n"
          ],
          "name": "stdout"
        }
      ]
    },
    {
      "cell_type": "markdown",
      "metadata": {
        "id": "OpJscAeRAR4k",
        "colab_type": "text"
      },
      "source": [
        "## Probando Cruzamiento"
      ]
    },
    {
      "cell_type": "code",
      "metadata": {
        "id": "_pq1okitAR4k",
        "colab_type": "code",
        "colab": {}
      },
      "source": [
        "popsize = len(population)\n",
        "## Selecciona las parejas de padres para cruzamiento \n",
        "mating_pool = []\n",
        "for i in range(int(popsize/2)): mating_pool.append(select_parents_roulette(population)) "
      ],
      "execution_count": 0,
      "outputs": []
    },
    {
      "cell_type": "code",
      "metadata": {
        "id": "IpOzI1nMAR4m",
        "colab_type": "code",
        "colab": {}
      },
      "source": [
        "# Crea la poblacion descendencia cruzando las parejas del mating pool con Recombinación de 1 punto\n",
        "offspring_population = []\n",
        "for i in range(len(mating_pool)): \n",
        "    offspring_population.extend( mating_pool[i][0].crossover_onepoint(mating_pool[i][1]) )\n",
        "    #offspring_population.extend( mating_pool[i][0].crossover_uniform(mating_pool[i][1]) )"
      ],
      "execution_count": 0,
      "outputs": []
    },
    {
      "cell_type": "code",
      "metadata": {
        "id": "FEZLl546AR4o",
        "colab_type": "code",
        "outputId": "a95c8a48-455f-442e-efb2-75d7330c05cd",
        "colab": {
          "base_uri": "https://localhost:8080/",
          "height": 402
        }
      },
      "source": [
        "display(offspring_population)"
      ],
      "execution_count": 0,
      "outputs": [
        {
          "output_type": "execute_result",
          "data": {
            "text/html": [
              "<div>\n",
              "<style scoped>\n",
              "    .dataframe tbody tr th:only-of-type {\n",
              "        vertical-align: middle;\n",
              "    }\n",
              "\n",
              "    .dataframe tbody tr th {\n",
              "        vertical-align: top;\n",
              "    }\n",
              "\n",
              "    .dataframe thead th {\n",
              "        text-align: right;\n",
              "    }\n",
              "</style>\n",
              "<table border=\"1\" class=\"dataframe\">\n",
              "  <thead>\n",
              "    <tr style=\"text-align: right;\">\n",
              "      <th></th>\n",
              "      <th>Poblacion</th>\n",
              "      <th>fitness acumulado</th>\n",
              "      <th>Distancias X</th>\n",
              "      <th>Distancias Y</th>\n",
              "      <th>Población Acumulada</th>\n",
              "    </tr>\n",
              "  </thead>\n",
              "  <tbody>\n",
              "    <tr>\n",
              "      <th>0</th>\n",
              "      <td>[39, 11, 47, 55, 9, 5, 46, 29, 28, 40]</td>\n",
              "      <td>-1</td>\n",
              "      <td>-1</td>\n",
              "      <td>-1</td>\n",
              "      <td>-1</td>\n",
              "    </tr>\n",
              "    <tr>\n",
              "      <th>1</th>\n",
              "      <td>[47, 58, 58, 15, 25, 20, 7, 48, 42, 11]</td>\n",
              "      <td>-1</td>\n",
              "      <td>-1</td>\n",
              "      <td>-1</td>\n",
              "      <td>-1</td>\n",
              "    </tr>\n",
              "    <tr>\n",
              "      <th>2</th>\n",
              "      <td>[16, 42, 14, 12, 55, 55, 24, 42, 55, 24]</td>\n",
              "      <td>-1</td>\n",
              "      <td>-1</td>\n",
              "      <td>-1</td>\n",
              "      <td>-1</td>\n",
              "    </tr>\n",
              "    <tr>\n",
              "      <th>3</th>\n",
              "      <td>[48, 39, 4, 44, 26, 21, 22, 45, 26, 4]</td>\n",
              "      <td>-1</td>\n",
              "      <td>-1</td>\n",
              "      <td>-1</td>\n",
              "      <td>-1</td>\n",
              "    </tr>\n",
              "    <tr>\n",
              "      <th>4</th>\n",
              "      <td>[59, 18, 37, 16, 25, 29, 44, 7, 47, 46]</td>\n",
              "      <td>-1</td>\n",
              "      <td>-1</td>\n",
              "      <td>-1</td>\n",
              "      <td>-1</td>\n",
              "    </tr>\n",
              "    <tr>\n",
              "      <th>...</th>\n",
              "      <td>...</td>\n",
              "      <td>...</td>\n",
              "      <td>...</td>\n",
              "      <td>...</td>\n",
              "      <td>...</td>\n",
              "    </tr>\n",
              "    <tr>\n",
              "      <th>95</th>\n",
              "      <td>[18, 1, 59, 55, 28, 35, 57, 49, 18, 12]</td>\n",
              "      <td>-1</td>\n",
              "      <td>-1</td>\n",
              "      <td>-1</td>\n",
              "      <td>-1</td>\n",
              "    </tr>\n",
              "    <tr>\n",
              "      <th>96</th>\n",
              "      <td>[55, 2, 50, 34, 48, 43, 2, 45, 6, 48]</td>\n",
              "      <td>-1</td>\n",
              "      <td>-1</td>\n",
              "      <td>-1</td>\n",
              "      <td>-1</td>\n",
              "    </tr>\n",
              "    <tr>\n",
              "      <th>97</th>\n",
              "      <td>[57, 9, 54, 50, 52, 4, 6, 22, 6, 19]</td>\n",
              "      <td>-1</td>\n",
              "      <td>-1</td>\n",
              "      <td>-1</td>\n",
              "      <td>-1</td>\n",
              "    </tr>\n",
              "    <tr>\n",
              "      <th>98</th>\n",
              "      <td>[28, 20, 46, 38, 43, 12, 13, 34, 30, 3]</td>\n",
              "      <td>-1</td>\n",
              "      <td>-1</td>\n",
              "      <td>-1</td>\n",
              "      <td>-1</td>\n",
              "    </tr>\n",
              "    <tr>\n",
              "      <th>99</th>\n",
              "      <td>[8, 18, 12, 19, 29, 5, 55, 32, 32, 52]</td>\n",
              "      <td>-1</td>\n",
              "      <td>-1</td>\n",
              "      <td>-1</td>\n",
              "      <td>-1</td>\n",
              "    </tr>\n",
              "  </tbody>\n",
              "</table>\n",
              "<p>100 rows × 5 columns</p>\n",
              "</div>"
            ],
            "text/plain": [
              "                                   Poblacion  ...  Población Acumulada\n",
              "0     [39, 11, 47, 55, 9, 5, 46, 29, 28, 40]  ...                   -1\n",
              "1    [47, 58, 58, 15, 25, 20, 7, 48, 42, 11]  ...                   -1\n",
              "2   [16, 42, 14, 12, 55, 55, 24, 42, 55, 24]  ...                   -1\n",
              "3     [48, 39, 4, 44, 26, 21, 22, 45, 26, 4]  ...                   -1\n",
              "4    [59, 18, 37, 16, 25, 29, 44, 7, 47, 46]  ...                   -1\n",
              "..                                       ...  ...                  ...\n",
              "95   [18, 1, 59, 55, 28, 35, 57, 49, 18, 12]  ...                   -1\n",
              "96     [55, 2, 50, 34, 48, 43, 2, 45, 6, 48]  ...                   -1\n",
              "97      [57, 9, 54, 50, 52, 4, 6, 22, 6, 19]  ...                   -1\n",
              "98   [28, 20, 46, 38, 43, 12, 13, 34, 30, 3]  ...                   -1\n",
              "99    [8, 18, 12, 19, 29, 5, 55, 32, 32, 52]  ...                   -1\n",
              "\n",
              "[100 rows x 5 columns]"
            ]
          },
          "metadata": {
            "tags": []
          },
          "execution_count": 18
        }
      ]
    },
    {
      "cell_type": "markdown",
      "metadata": {
        "id": "pEJD-7iJAR4s",
        "colab_type": "text"
      },
      "source": [
        "## Probando Mutacion"
      ]
    },
    {
      "cell_type": "code",
      "metadata": {
        "id": "gfI0km6BAR4u",
        "colab_type": "code",
        "colab": {}
      },
      "source": [
        "pmut=0.8\n",
        "## Aplica el operador de mutacion con probabilidad pmut en cada hijo generado\n",
        "for i in range(len(offspring_population)):\n",
        "    if random.uniform(0, 1) < pmut: \n",
        "        offspring_population[i] = offspring_population[i].mutate_swap()\n",
        "       #offspring_population[i] = offspring_population[i].mutate_position()"
      ],
      "execution_count": 0,
      "outputs": []
    },
    {
      "cell_type": "code",
      "metadata": {
        "id": "bAhuiQQHAR4z",
        "colab_type": "code",
        "outputId": "8ba205cb-0ae9-4f4e-b16d-fbb4e0ae1e70",
        "colab": {
          "base_uri": "https://localhost:8080/",
          "height": 402
        }
      },
      "source": [
        "display(offspring_population)"
      ],
      "execution_count": 0,
      "outputs": [
        {
          "output_type": "execute_result",
          "data": {
            "text/html": [
              "<div>\n",
              "<style scoped>\n",
              "    .dataframe tbody tr th:only-of-type {\n",
              "        vertical-align: middle;\n",
              "    }\n",
              "\n",
              "    .dataframe tbody tr th {\n",
              "        vertical-align: top;\n",
              "    }\n",
              "\n",
              "    .dataframe thead th {\n",
              "        text-align: right;\n",
              "    }\n",
              "</style>\n",
              "<table border=\"1\" class=\"dataframe\">\n",
              "  <thead>\n",
              "    <tr style=\"text-align: right;\">\n",
              "      <th></th>\n",
              "      <th>Poblacion</th>\n",
              "      <th>fitness acumulado</th>\n",
              "      <th>Distancias X</th>\n",
              "      <th>Distancias Y</th>\n",
              "      <th>Población Acumulada</th>\n",
              "    </tr>\n",
              "  </thead>\n",
              "  <tbody>\n",
              "    <tr>\n",
              "      <th>0</th>\n",
              "      <td>[39, 11, 40, 55, 9, 5, 46, 29, 28, 47]</td>\n",
              "      <td>-1</td>\n",
              "      <td>-1</td>\n",
              "      <td>-1</td>\n",
              "      <td>-1</td>\n",
              "    </tr>\n",
              "    <tr>\n",
              "      <th>1</th>\n",
              "      <td>[47, 58, 58, 15, 25, 20, 7, 48, 42, 11]</td>\n",
              "      <td>-1</td>\n",
              "      <td>-1</td>\n",
              "      <td>-1</td>\n",
              "      <td>-1</td>\n",
              "    </tr>\n",
              "    <tr>\n",
              "      <th>2</th>\n",
              "      <td>[16, 42, 14, 12, 55, 55, 24, 42, 55, 24]</td>\n",
              "      <td>-1</td>\n",
              "      <td>-1</td>\n",
              "      <td>-1</td>\n",
              "      <td>-1</td>\n",
              "    </tr>\n",
              "    <tr>\n",
              "      <th>3</th>\n",
              "      <td>[22, 39, 4, 44, 26, 21, 48, 45, 26, 4]</td>\n",
              "      <td>-1</td>\n",
              "      <td>-1</td>\n",
              "      <td>-1</td>\n",
              "      <td>-1</td>\n",
              "    </tr>\n",
              "    <tr>\n",
              "      <th>4</th>\n",
              "      <td>[59, 18, 37, 16, 25, 29, 47, 7, 44, 46]</td>\n",
              "      <td>-1</td>\n",
              "      <td>-1</td>\n",
              "      <td>-1</td>\n",
              "      <td>-1</td>\n",
              "    </tr>\n",
              "    <tr>\n",
              "      <th>...</th>\n",
              "      <td>...</td>\n",
              "      <td>...</td>\n",
              "      <td>...</td>\n",
              "      <td>...</td>\n",
              "      <td>...</td>\n",
              "    </tr>\n",
              "    <tr>\n",
              "      <th>95</th>\n",
              "      <td>[18, 1, 59, 55, 28, 35, 57, 49, 18, 12]</td>\n",
              "      <td>-1</td>\n",
              "      <td>-1</td>\n",
              "      <td>-1</td>\n",
              "      <td>-1</td>\n",
              "    </tr>\n",
              "    <tr>\n",
              "      <th>96</th>\n",
              "      <td>[55, 2, 50, 34, 48, 6, 2, 45, 43, 48]</td>\n",
              "      <td>-1</td>\n",
              "      <td>-1</td>\n",
              "      <td>-1</td>\n",
              "      <td>-1</td>\n",
              "    </tr>\n",
              "    <tr>\n",
              "      <th>97</th>\n",
              "      <td>[6, 9, 54, 50, 52, 4, 57, 22, 6, 19]</td>\n",
              "      <td>-1</td>\n",
              "      <td>-1</td>\n",
              "      <td>-1</td>\n",
              "      <td>-1</td>\n",
              "    </tr>\n",
              "    <tr>\n",
              "      <th>98</th>\n",
              "      <td>[28, 20, 46, 38, 43, 30, 13, 34, 12, 3]</td>\n",
              "      <td>-1</td>\n",
              "      <td>-1</td>\n",
              "      <td>-1</td>\n",
              "      <td>-1</td>\n",
              "    </tr>\n",
              "    <tr>\n",
              "      <th>99</th>\n",
              "      <td>[8, 18, 55, 19, 29, 5, 12, 32, 32, 52]</td>\n",
              "      <td>-1</td>\n",
              "      <td>-1</td>\n",
              "      <td>-1</td>\n",
              "      <td>-1</td>\n",
              "    </tr>\n",
              "  </tbody>\n",
              "</table>\n",
              "<p>100 rows × 5 columns</p>\n",
              "</div>"
            ],
            "text/plain": [
              "                                   Poblacion  ...  Población Acumulada\n",
              "0     [39, 11, 40, 55, 9, 5, 46, 29, 28, 47]  ...                   -1\n",
              "1    [47, 58, 58, 15, 25, 20, 7, 48, 42, 11]  ...                   -1\n",
              "2   [16, 42, 14, 12, 55, 55, 24, 42, 55, 24]  ...                   -1\n",
              "3     [22, 39, 4, 44, 26, 21, 48, 45, 26, 4]  ...                   -1\n",
              "4    [59, 18, 37, 16, 25, 29, 47, 7, 44, 46]  ...                   -1\n",
              "..                                       ...  ...                  ...\n",
              "95   [18, 1, 59, 55, 28, 35, 57, 49, 18, 12]  ...                   -1\n",
              "96     [55, 2, 50, 34, 48, 6, 2, 45, 43, 48]  ...                   -1\n",
              "97      [6, 9, 54, 50, 52, 4, 57, 22, 6, 19]  ...                   -1\n",
              "98   [28, 20, 46, 38, 43, 30, 13, 34, 12, 3]  ...                   -1\n",
              "99    [8, 18, 55, 19, 29, 5, 12, 32, 32, 52]  ...                   -1\n",
              "\n",
              "[100 rows x 5 columns]"
            ]
          },
          "metadata": {
            "tags": []
          },
          "execution_count": 20
        }
      ]
    },
    {
      "cell_type": "markdown",
      "metadata": {
        "id": "WP-NnjZzAR41",
        "colab_type": "text"
      },
      "source": [
        "## Evalua la nueva poblacion despues de pasar por los operadores de reproduccion"
      ]
    },
    {
      "cell_type": "code",
      "metadata": {
        "id": "d3AhViI-AR41",
        "colab_type": "code",
        "outputId": "27bfe646-d8c0-4f0f-b376-8f818f0b3494",
        "colab": {
          "base_uri": "https://localhost:8080/",
          "height": 402
        }
      },
      "source": [
        "fitness_fn=fun_fitness_cuad\n",
        "## Evalua la nueva poblacion\n",
        "population2=evaluate_population(offspring_population,fitness_fn)  # evalua la poblacion inicial\n",
        "display(population2)"
      ],
      "execution_count": 0,
      "outputs": [
        {
          "output_type": "execute_result",
          "data": {
            "text/html": [
              "<div>\n",
              "<style scoped>\n",
              "    .dataframe tbody tr th:only-of-type {\n",
              "        vertical-align: middle;\n",
              "    }\n",
              "\n",
              "    .dataframe tbody tr th {\n",
              "        vertical-align: top;\n",
              "    }\n",
              "\n",
              "    .dataframe thead th {\n",
              "        text-align: right;\n",
              "    }\n",
              "</style>\n",
              "<table border=\"1\" class=\"dataframe\">\n",
              "  <thead>\n",
              "    <tr style=\"text-align: right;\">\n",
              "      <th></th>\n",
              "      <th>Poblacion</th>\n",
              "      <th>fitness acumulado</th>\n",
              "      <th>Distancias X</th>\n",
              "      <th>Distancias Y</th>\n",
              "      <th>Población Acumulada</th>\n",
              "    </tr>\n",
              "  </thead>\n",
              "  <tbody>\n",
              "    <tr>\n",
              "      <th>0</th>\n",
              "      <td>[39, 11, 40, 55, 9, 5, 46, 29, 28, 47]</td>\n",
              "      <td>125955.89583</td>\n",
              "      <td>2.06783</td>\n",
              "      <td>3.82800</td>\n",
              "      <td>125950</td>\n",
              "    </tr>\n",
              "    <tr>\n",
              "      <th>1</th>\n",
              "      <td>[47, 58, 58, 15, 25, 20, 7, 48, 42, 11]</td>\n",
              "      <td>159003.88391</td>\n",
              "      <td>1.90596</td>\n",
              "      <td>1.97795</td>\n",
              "      <td>159000</td>\n",
              "    </tr>\n",
              "    <tr>\n",
              "      <th>2</th>\n",
              "      <td>[16, 42, 14, 12, 55, 55, 24, 42, 55, 24]</td>\n",
              "      <td>154804.62673</td>\n",
              "      <td>1.76955</td>\n",
              "      <td>2.85718</td>\n",
              "      <td>154800</td>\n",
              "    </tr>\n",
              "    <tr>\n",
              "      <th>3</th>\n",
              "      <td>[22, 39, 4, 44, 26, 21, 48, 45, 26, 4]</td>\n",
              "      <td>143804.54329</td>\n",
              "      <td>1.74814</td>\n",
              "      <td>2.79515</td>\n",
              "      <td>143800</td>\n",
              "    </tr>\n",
              "    <tr>\n",
              "      <th>4</th>\n",
              "      <td>[59, 18, 37, 16, 25, 29, 47, 7, 44, 46]</td>\n",
              "      <td>135705.48899</td>\n",
              "      <td>2.11912</td>\n",
              "      <td>3.36987</td>\n",
              "      <td>135700</td>\n",
              "    </tr>\n",
              "    <tr>\n",
              "      <th>...</th>\n",
              "      <td>...</td>\n",
              "      <td>...</td>\n",
              "      <td>...</td>\n",
              "      <td>...</td>\n",
              "      <td>...</td>\n",
              "    </tr>\n",
              "    <tr>\n",
              "      <th>95</th>\n",
              "      <td>[18, 1, 59, 55, 28, 35, 57, 49, 18, 12]</td>\n",
              "      <td>155805.01190</td>\n",
              "      <td>1.95555</td>\n",
              "      <td>3.05635</td>\n",
              "      <td>155800</td>\n",
              "    </tr>\n",
              "    <tr>\n",
              "      <th>96</th>\n",
              "      <td>[55, 2, 50, 34, 48, 6, 2, 45, 43, 48]</td>\n",
              "      <td>151404.67311</td>\n",
              "      <td>1.95665</td>\n",
              "      <td>2.71646</td>\n",
              "      <td>151400</td>\n",
              "    </tr>\n",
              "    <tr>\n",
              "      <th>97</th>\n",
              "      <td>[6, 9, 54, 50, 52, 4, 57, 22, 6, 19]</td>\n",
              "      <td>175152.73343</td>\n",
              "      <td>1.67325</td>\n",
              "      <td>1.06018</td>\n",
              "      <td>175150</td>\n",
              "    </tr>\n",
              "    <tr>\n",
              "      <th>98</th>\n",
              "      <td>[28, 20, 46, 38, 43, 30, 13, 34, 12, 3]</td>\n",
              "      <td>106305.32959</td>\n",
              "      <td>1.29395</td>\n",
              "      <td>4.03564</td>\n",
              "      <td>106300</td>\n",
              "    </tr>\n",
              "    <tr>\n",
              "      <th>99</th>\n",
              "      <td>[8, 18, 55, 19, 29, 5, 12, 32, 32, 52]</td>\n",
              "      <td>139655.03727</td>\n",
              "      <td>1.58574</td>\n",
              "      <td>3.45153</td>\n",
              "      <td>139650</td>\n",
              "    </tr>\n",
              "  </tbody>\n",
              "</table>\n",
              "<p>100 rows × 5 columns</p>\n",
              "</div>"
            ],
            "text/plain": [
              "                                   Poblacion  ...  Población Acumulada\n",
              "0     [39, 11, 40, 55, 9, 5, 46, 29, 28, 47]  ...               125950\n",
              "1    [47, 58, 58, 15, 25, 20, 7, 48, 42, 11]  ...               159000\n",
              "2   [16, 42, 14, 12, 55, 55, 24, 42, 55, 24]  ...               154800\n",
              "3     [22, 39, 4, 44, 26, 21, 48, 45, 26, 4]  ...               143800\n",
              "4    [59, 18, 37, 16, 25, 29, 47, 7, 44, 46]  ...               135700\n",
              "..                                       ...  ...                  ...\n",
              "95   [18, 1, 59, 55, 28, 35, 57, 49, 18, 12]  ...               155800\n",
              "96     [55, 2, 50, 34, 48, 6, 2, 45, 43, 48]  ...               151400\n",
              "97      [6, 9, 54, 50, 52, 4, 57, 22, 6, 19]  ...               175150\n",
              "98   [28, 20, 46, 38, 43, 30, 13, 34, 12, 3]  ...               106300\n",
              "99    [8, 18, 55, 19, 29, 5, 12, 32, 32, 52]  ...               139650\n",
              "\n",
              "[100 rows x 5 columns]"
            ]
          },
          "metadata": {
            "tags": []
          },
          "execution_count": 21
        }
      ]
    },
    {
      "cell_type": "markdown",
      "metadata": {
        "id": "4p1zDtE64Ec5",
        "colab_type": "text"
      },
      "source": [
        "## Juntando todo"
      ]
    },
    {
      "cell_type": "code",
      "metadata": {
        "id": "JaxaaWtI4G1n",
        "colab_type": "code",
        "outputId": "a212988b-e1a5-491d-e6dc-0d9fa7e51996",
        "colab": {
          "base_uri": "https://localhost:8080/",
          "height": 210
        }
      },
      "source": [
        "print('Ejecución\\tIndividuo\\tIteración\\tFitness\\tSuma de distancias X\\tSuma de distancias Y\\tSuma de población')\n",
        "for ejecucion in range(0,10):\n",
        "  population_iter = []\n",
        "  population_best = []\n",
        "  best_fitness = 0\n",
        "  best_a = 0\n",
        "  random.seed()\n",
        "  population = init_population(num_individuals,ind_size, allele_pool)\n",
        "  for a in range(0,500):\n",
        "    offspring_population = []\n",
        "    for i in range(len(mating_pool)): \n",
        "      offspring_population.extend( mating_pool[i][0].crossover_onepoint(mating_pool[i][1]))\n",
        "    for i in range(len(offspring_population)):\n",
        "      if random.uniform(0, 1) < pmut: \n",
        "          offspring_population[i] = offspring_population[i].mutate_swap()\n",
        "    population_iter=evaluate_population(offspring_population,fitness_fn)\n",
        "    max_fitness = max(map(lambda x: x.fitness, population_iter))\n",
        "    i = 0\n",
        "    for pop in population_iter:\n",
        "      if pop.fitness == max_fitness:\n",
        "        break\n",
        "      else:\n",
        "        i += 1\n",
        "    if population_iter[i].fitness > best_fitness:\n",
        "      best_fitness = population_iter[i].fitness\n",
        "      population_best = population_iter[i]\n",
        "      best_a = a\n",
        "  population_best.chromosome.sort()\n",
        "  print(ejecucion + 1,population_best.chromosome,best_a+1,population_best.fitness,population_best.fitness_sep[1],population_best.fitness_sep[2],population_best.fitness_sep[3], sep='\\t' )\n"
      ],
      "execution_count": 0,
      "outputs": [
        {
          "output_type": "stream",
          "text": [
            "Ejecución\tIndividuo\tIteración\tFitness\tSuma de distancias X\tSuma de distancias Y\tSuma de población\n",
            "1\t[0, 1, 6, 23, 46, 49, 49, 54, 56, 59]\t4\t178402.76096\t1.741909999999999\t1.0190500000000071\t178400\n",
            "2\t[0, 1, 6, 23, 46, 49, 49, 54, 56, 59]\t5\t178402.76096\t1.741909999999999\t1.0190500000000071\t178400\n",
            "3\t[0, 1, 6, 23, 46, 49, 49, 54, 56, 59]\t8\t178402.76096\t1.741909999999999\t1.0190500000000071\t178400\n",
            "4\t[0, 1, 6, 23, 46, 49, 49, 54, 56, 59]\t3\t178402.76096\t1.741909999999999\t1.0190500000000071\t178400\n",
            "5\t[0, 1, 6, 23, 46, 49, 49, 54, 56, 59]\t5\t178402.76096\t1.741909999999999\t1.0190500000000071\t178400\n",
            "6\t[0, 1, 6, 23, 46, 49, 49, 54, 56, 59]\t11\t178402.76096\t1.741909999999999\t1.0190500000000071\t178400\n",
            "7\t[0, 1, 6, 23, 46, 49, 49, 54, 56, 59]\t1\t178402.76096\t1.741909999999999\t1.0190500000000071\t178400\n",
            "8\t[0, 1, 6, 23, 46, 49, 49, 54, 56, 59]\t34\t178402.76096\t1.741909999999999\t1.0190500000000071\t178400\n",
            "9\t[0, 1, 6, 23, 46, 49, 49, 54, 56, 59]\t4\t178402.76096\t1.741909999999999\t1.0190500000000071\t178400\n",
            "10\t[0, 1, 6, 23, 46, 49, 49, 54, 56, 59]\t13\t178402.76096\t1.741909999999999\t1.0190500000000071\t178400\n"
          ],
          "name": "stdout"
        }
      ]
    }
  ]
}