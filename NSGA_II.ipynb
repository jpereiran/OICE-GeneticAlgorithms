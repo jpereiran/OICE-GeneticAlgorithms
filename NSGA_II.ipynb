{
  "nbformat": 4,
  "nbformat_minor": 0,
  "metadata": {
    "colab": {
      "name": "NSGA II.ipynb",
      "provenance": []
    },
    "kernelspec": {
      "name": "python3",
      "display_name": "Python 3"
    }
  },
  "cells": [
    {
      "cell_type": "code",
      "metadata": {
        "id": "N3MpazjcX2M9",
        "colab_type": "code",
        "colab": {}
      },
      "source": [
        "#Importing required modules\n",
        "import math\n",
        "import random\n",
        "import matplotlib.pyplot as plt\n",
        "from random import shuffle, uniform\n",
        "from itertools import combinations"
      ],
      "execution_count": 0,
      "outputs": []
    },
    {
      "cell_type": "markdown",
      "metadata": {
        "id": "jCO9LsYYX-OA",
        "colab_type": "text"
      },
      "source": [
        "## Defino variables"
      ]
    },
    {
      "cell_type": "code",
      "metadata": {
        "id": "KmrdF3aiX8Sn",
        "colab_type": "code",
        "colab": {}
      },
      "source": [
        "x_pool = [-12.04861,-12.05956,-12.06524,-12.05998,-12.05541,-12.05417,-12.05349,-12.05268,-12.05278,-12.05301,-12.04937,-12.05465,-12.05486,-12.05059,-12.04253,-12.04817,-12.04668,-12.05606,-12.07258,-12.07414,-12.06771,-12.06921,-12.07396,-12.075,-12.09086,-12.09375,-12.09602,-12.02669,-12.0282,-12.03267,-12.03828,-12.03982,-12.04117,-12.0417,-12.04155,-12.03882,-12.03959,-12.03548,-12.03766,-12.03984,-12.04233,-12.04328,-12.04486,-12.04566,-12.03895,-12.12916,-12.13156,-12.13222,-12.1265,-12.1261,-12.12603,-12.12587,-12.12248,-12.12326,-12.12028,-12.1201,-12.12532,-12.12116,-12.12159,-12.11685]\n",
        "y_pool = [-77.06496,-77.07583,-77.07334,-77.063,-77.07497,-77.07472,-77.07362,-77.07409,-77.07104,-77.07735,-77.07948,-77.06952,-77.07655,-77.07666,-77.09595,-77.05867,-77.0726,-77.06726,-77.06884,-77.0629,-77.06214,-77.0593,-77.051,-77.04631,-77.05947,-77.06947,-77.07398,-76.88958,-76.8912,-76.91418,-76.9157,-76.91897,-76.9186,-76.9221,-76.9213,-76.9238,-76.92422,-76.92502,-76.92863,-76.92827,-76.92739,-76.92851,-76.92715,-76.91841,-76.92025,-77.02984,-77.02371,-77.02358,-77.02697,-77.02889,-77.03129,-77.03583,-77.03332,-77.03639,-77.03866,-77.0343,-77.03135,-77.02889,-77.03092,-77.02991]\n",
        "pob_pool = [16500,18000,17000,15000,17100,17350,17300,17400,17350,17400,16900,17200,17300,17500,18500,17100,16400,15950,16800,16950,14500,16400,17300,17000,14900,13900,11500,2900,2500,2000,3800,8500,7500,6000,6000,8600,8500,9200,9900,9900,9200,8700,7900,4000,8600,16000,15800,15600,18400,18800,18300,14500,17900,16950,17600,19000,18600,18000,18500,20000]\n",
        "allele_pool = [0,1,2,3,4,5,6,7,8,9,10,11,12,13,14,15,16,17,18,19,20,21,22,23,24,25,26,27,28,29,30,31,32,33,34,35,36,37,38,39,40,41,42,43,44,45,46,47,48,49,50,51,52,53,54,55,56,57,58,59]\n",
        "\n",
        "num_individuals = 100\n",
        "ind_size        = 10\n",
        "pmut            = 0.7\n",
        "pop_size = 100\n",
        "max_gen = 100"
      ],
      "execution_count": 0,
      "outputs": []
    },
    {
      "cell_type": "markdown",
      "metadata": {
        "id": "s3EflOpdYCes",
        "colab_type": "text"
      },
      "source": [
        "## Creo funciones de optimización"
      ]
    },
    {
      "cell_type": "code",
      "metadata": {
        "id": "KgVwVqEFYBge",
        "colab_type": "code",
        "colab": {}
      },
      "source": [
        "def function1(chromosome):\n",
        "    comb = combinations(chromosome, 2) \n",
        "    dist_x = 0\n",
        "    dist_y = 0\n",
        "    for com in comb:\n",
        "      dist_x += abs(x_pool[com[0]] - x_pool[com[1]])\n",
        "      dist_y += abs(y_pool[com[0]] - y_pool[com[1]])\n",
        "    return dist_x + dist_y\n",
        "\n",
        "def function2(chromosome):\n",
        "    n = 0\n",
        "    for c in chromosome:\n",
        "      n +=  pob_pool[c]\n",
        "    return n\n"
      ],
      "execution_count": 0,
      "outputs": []
    },
    {
      "cell_type": "markdown",
      "metadata": {
        "id": "QFLGrAvsYJ4o",
        "colab_type": "text"
      },
      "source": [
        "## Defino resto de funciones para el cálculo"
      ]
    },
    {
      "cell_type": "code",
      "metadata": {
        "id": "d6_MWaSXYQkl",
        "colab_type": "code",
        "colab": {}
      },
      "source": [
        "def index_of(a,list_t):\n",
        "    for i in range(0,len(list_t)):\n",
        "        if list_t[i] == a:\n",
        "            return i\n",
        "    return -1\n",
        "\n",
        "#Function to sort by values\n",
        "def sort_by_values(list1, values):\n",
        "    sorted_list = []\n",
        "    while(len(sorted_list)!=len(list1)):\n",
        "        if index_of(min(values),values) in list1:\n",
        "            sorted_list.append(index_of(min(values),values))\n",
        "        values[index_of(min(values),values)] = math.inf\n",
        "    return sorted_list\n",
        "\n",
        "#Function to carry out NSGA-II's fast non dominated sort\n",
        "def fast_non_dominated_sort(values1, values2):\n",
        "    S=[[] for i in range(0,len(values1))]\n",
        "    front = [[]]\n",
        "    n=[0 for i in range(0,len(values1))]\n",
        "    rank = [0 for i in range(0, len(values1))]\n",
        "\n",
        "    for p in range(0,len(values1)):\n",
        "        S[p]=[]\n",
        "        n[p]=0\n",
        "        for q in range(0, len(values1)):\n",
        "            if (values1[p] > values1[q] and values2[p] > values2[q]) or (values1[p] >= values1[q] and values2[p] > values2[q]) or (values1[p] > values1[q] and values2[p] >= values2[q]):\n",
        "                if q not in S[p]:\n",
        "                    S[p].append(q)\n",
        "            elif (values1[q] > values1[p] and values2[q] > values2[p]) or (values1[q] >= values1[p] and values2[q] > values2[p]) or (values1[q] > values1[p] and values2[q] >= values2[p]):\n",
        "                n[p] = n[p] + 1\n",
        "        if n[p]==0:\n",
        "            rank[p] = 0\n",
        "            if p not in front[0]:\n",
        "                front[0].append(p)\n",
        "\n",
        "    i = 0\n",
        "    while(front[i] != []):\n",
        "        Q=[]\n",
        "        for p in front[i]:\n",
        "            for q in S[p]:\n",
        "                n[q] =n[q] - 1\n",
        "                if( n[q]==0):\n",
        "                    rank[q]=i+1\n",
        "                    if q not in Q:\n",
        "                        Q.append(q)\n",
        "        i = i+1\n",
        "        front.append(Q)\n",
        "\n",
        "\n",
        "    del front[len(front)-1]\n",
        "    return front\n",
        "\n",
        "#Function to calculate crowding distance\n",
        "def crowding_distance(values1, values2, front):\n",
        "    distance = [0 for i in range(0,len(front))]\n",
        "    sorted1 = sort_by_values(front, values1[:])\n",
        "    sorted2 = sort_by_values(front, values2[:])\n",
        "    distance[0] = 4444444444444444\n",
        "    distance[len(front) - 1] = 4444444444444444\n",
        "    for k in range(1,len(front)-1):\n",
        "        distance[k] = distance[k]+ (values1[sorted1[k+1]] - values2[sorted1[k-1]])/(max(values1)-min(values1))\n",
        "    for k in range(1,len(front)-1):\n",
        "        distance[k] = distance[k]+ (values1[sorted2[k+1]] - values2[sorted2[k-1]])/(max(values2)-min(values2))\n",
        "    return distance\n",
        "\n",
        "#Function to carry out the crossover\n",
        "def crossover(chromosome,xchromosome):\n",
        "    chromosome1 = []\n",
        "    chromosome2 = []\n",
        "    \"Retorna dos nuevos individuos del cruzamiento uniforme entre self y other \"\n",
        "    for i in range(len(chromosome)):\n",
        "        if uniform(0, 1) < 0.8:\n",
        "            chromosome1.append(chromosome[i])\n",
        "            chromosome2.append(xchromosome[i])\n",
        "        else:\n",
        "            chromosome1.append(xchromosome[i])\n",
        "            chromosome2.append(chromosome[i])\n",
        "\n",
        "    return [chromosome1, chromosome2] \n",
        "\n",
        "\n",
        "#Function to carry out the mutation operator\n",
        "def mutation(solution):\n",
        "    if uniform(0, 1) < pmut:\n",
        "        mutation_prob = random.random()\n",
        "        if mutation_prob <1:\n",
        "            solution = min_x+(max_x-min_x)*random.random()\n",
        "    return solution"
      ],
      "execution_count": 0,
      "outputs": []
    },
    {
      "cell_type": "markdown",
      "metadata": {
        "id": "UufMuevmYiQi",
        "colab_type": "text"
      },
      "source": [
        "## Ejecuto el algoritmo"
      ]
    },
    {
      "cell_type": "code",
      "metadata": {
        "id": "Dw65yj1DYhSs",
        "colab_type": "code",
        "colab": {
          "base_uri": "https://localhost:8080/",
          "height": 455
        },
        "outputId": "997c031f-3c3a-48d0-843c-16a54f6ccb15"
      },
      "source": [
        "#Initialization\n",
        "pob = []\n",
        "\n",
        "for k in range(10):\n",
        "    gen_no=0\n",
        "    while(gen_no<max_gen):\n",
        "\n",
        "        num_alleles = len(allele_pool)\n",
        "        pob = []\n",
        "        for i in range(100):\n",
        "            new_chromosome = [allele_pool[random.randrange(0, num_alleles)] for j in range(10)]\n",
        "            pob.append(new_chromosome)\n",
        "\n",
        "        function1_values = [function1(pob[i])for i in range(0,pop_size)]\n",
        "        function2_values = [function2(pob[i])for i in range(0,pop_size)]\n",
        "        non_dominated_sorted_solution = fast_non_dominated_sort(function1_values[:],function2_values[:])\n",
        "\n",
        "        function1_values_par = []\n",
        "        function2_values_par = []\n",
        "\n",
        "        for valuez in non_dominated_sorted_solution[0]:\n",
        "            #print((pob[valuez]),end=\" \")\n",
        "            function1_values_par.append(function1_values[valuez])\n",
        "            function2_values_par.append(function2_values[valuez])\n",
        "\n",
        "        crowding_distance_values=[]\n",
        "        for i in range(0,len(non_dominated_sorted_solution)):\n",
        "            crowding_distance_values.append(crowding_distance(function1_values[:],function2_values[:],non_dominated_sorted_solution[i][:]))\n",
        "        solution2 = pob[:]\n",
        "\n",
        "        #Generating offsprings\n",
        "        a1 = random.randint(0,pop_size-1)\n",
        "        b1 = random.randint(0,pop_size-1)\n",
        "        appen = crossover(pob[a1],pob[b1])\n",
        "        solution2.append(appen[0])\n",
        "        solution2.append(appen[1])\n",
        "        solution2.remove(pob[a1])\n",
        "        solution2.remove(pob[b1])\n",
        "\n",
        "        function1_values2 = [function1(solution2[i])for i in range(0,num_individuals)]\n",
        "        function2_values2 = [function2(solution2[i])for i in range(0,num_individuals)]\n",
        "\n",
        "        non_dominated_sorted_solution2 = fast_non_dominated_sort(function1_values2[:],function2_values2[:])\n",
        "        crowding_distance_values2=[]\n",
        "        for i in range(0,len(non_dominated_sorted_solution2)):\n",
        "            crowding_distance_values2.append(crowding_distance(function1_values2[:],function2_values2[:],non_dominated_sorted_solution2[i][:]))\n",
        "        new_solution= []\n",
        "        for i in range(0,len(non_dominated_sorted_solution2)):\n",
        "            non_dominated_sorted_solution2_1 = [index_of(non_dominated_sorted_solution2[i][j],non_dominated_sorted_solution2[i] ) for j in range(0,len(non_dominated_sorted_solution2[i]))]\n",
        "            front22 = sort_by_values(non_dominated_sorted_solution2_1[:], crowding_distance_values2[i][:])\n",
        "            front = [non_dominated_sorted_solution2[i][front22[j]] for j in range(0,len(non_dominated_sorted_solution2[i]))]\n",
        "            front.reverse()\n",
        "            for value in front:\n",
        "                new_solution.append(value)\n",
        "                if(len(new_solution)==pop_size):\n",
        "                    break\n",
        "            if (len(new_solution) == pop_size):\n",
        "                break\n",
        "        solution = [solution2[i] for i in new_solution]\n",
        "\n",
        "        best_fitness = 0\n",
        "        best_a = 0\n",
        "        a = 0\n",
        "        for sol in function1_values2:\n",
        "            if sol > best_fitness:\n",
        "              best_fitness = sol\n",
        "              best_a = a\n",
        "            a += 1\n",
        "        best_fitness_b = 0\n",
        "        best_b = 0\n",
        "        b = 0\n",
        "        for sol in function2_values2:\n",
        "            if sol > best_fitness:\n",
        "              best_fitness_b = sol\n",
        "              best_b = b\n",
        "            b += 1\n",
        "\n",
        "        gen_no = gen_no + 1\n",
        "    print(k+1, solution[best_a], best_fitness, best_fitness_b)\n",
        "\n",
        "    #Lets plot the final front now\n",
        "    function1_plot = [i * 1 for i in function1_values_par]\n",
        "    function2_plot = [j * 1 for j in function2_values_par]\n",
        "    plt.xlabel('Distancia entre puntos', fontsize=10)\n",
        "    plt.ylabel('Población', fontsize=10)\n",
        "    plt.scatter(function1_plot, function2_plot)\n",
        "    plt.scatter([2.71905], [178400])\n",
        "plt.show()"
      ],
      "execution_count": 8,
      "outputs": [
        {
          "output_type": "stream",
          "text": [
            "1 [49, 21, 25, 27, 56, 18, 40, 20, 10, 32] 6.122700000000021 135500\n",
            "2 [29, 17, 43, 6, 23, 12, 2, 19, 46, 0] 6.064689999999983 143450\n",
            "3 [45, 18, 45, 21, 2, 30, 19, 41, 15, 59] 6.086350000000019 148800\n",
            "4 [6, 45, 10, 36, 52, 42, 47, 47, 56, 25] 5.9066500000000595 139300\n",
            "5 [41, 9, 29, 15, 58, 34, 35, 35, 56, 58] 6.02709000000004 135950\n",
            "6 [5, 59, 45, 41, 42, 59, 4, 58, 38, 59] 5.975360000000098 121750\n",
            "7 [12, 33, 48, 56, 55, 10, 56, 37, 30, 14] 6.385360000000029 141500\n",
            "8 [18, 0, 18, 41, 5, 56, 30, 59, 37, 31] 6.136700000000101 125000\n",
            "9 [16, 55, 8, 52, 26, 33, 55, 41, 48, 24] 6.124950000000103 125350\n",
            "10 [0, 18, 21, 49, 37, 27, 34, 25, 3, 27] 6.294070000000142 156850\n"
          ],
          "name": "stdout"
        },
        {
          "output_type": "display_data",
          "data": {
            "image/png": "[encoded data removed]",
            "text/plain": [
              "<Figure size 432x288 with 1 Axes>"
            ]
          },
          "metadata": {
            "tags": []
          }
        }
      ]
    }
  ]
}